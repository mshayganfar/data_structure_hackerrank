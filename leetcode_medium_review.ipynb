{
 "cells": [
  {
   "cell_type": "markdown",
   "id": "f91d17c8",
   "metadata": {},
   "source": [
    "# Array/String\n",
    "\n",
    "## Reverse Words in a String\n",
    "\n",
    "Given an input string s, reverse the order of the words.\n",
    "\n",
    "A word is defined as a sequence of non-space characters. The words in s will be separated by at least one space.\n",
    "\n",
    "Return a string of the words in reverse order concatenated by a single space.\n",
    "\n",
    "Note that s may contain leading or trailing spaces or multiple spaces between two words. The returned string should only have a single space separating the words. Do not include any extra spaces."
   ]
  },
  {
   "cell_type": "code",
   "execution_count": 2,
   "id": "f595a10b",
   "metadata": {},
   "outputs": [],
   "source": [
    "s1 = \"the sky is blue\"\n",
    "s2 = \"  hello world  \"\n",
    "s3 = \"a good   example\""
   ]
  },
  {
   "cell_type": "code",
   "execution_count": 23,
   "id": "389ebd6c",
   "metadata": {},
   "outputs": [],
   "source": [
    "def reverseWords(s: str) -> str:\n",
    "    s_list = [word for word in s.strip().split(' ') if word != '']\n",
    "\n",
    "    return ' '.join(s_list[::-1])"
   ]
  },
  {
   "cell_type": "code",
   "execution_count": 26,
   "id": "fe0b41dd",
   "metadata": {},
   "outputs": [
    {
     "data": {
      "text/plain": [
       "'example good a'"
      ]
     },
     "execution_count": 26,
     "metadata": {},
     "output_type": "execute_result"
    }
   ],
   "source": [
    "reverseWords(s3)"
   ]
  },
  {
   "cell_type": "markdown",
   "id": "81f1ed34",
   "metadata": {},
   "source": [
    "## Product of Array Except Self\n",
    "\n",
    "Given an integer array nums, return an array answer such that answer[i] is equal to the product of all the elements of nums except nums[i].\n",
    "\n",
    "The product of any prefix or suffix of nums is guaranteed to fit in a 32-bit integer.\n",
    "\n",
    "You must write an algorithm that runs in O(n) time and without using the division operation."
   ]
  },
  {
   "cell_type": "code",
   "execution_count": 36,
   "id": "77900157",
   "metadata": {},
   "outputs": [],
   "source": [
    "nums1 = [1, 2, 3, 4]\n",
    "nums2 = [-1, 1, 0, -3, 3]"
   ]
  },
  {
   "cell_type": "code",
   "execution_count": 42,
   "id": "bc878d3b",
   "metadata": {},
   "outputs": [],
   "source": [
    "import math\n",
    "from typing import List"
   ]
  },
  {
   "cell_type": "code",
   "execution_count": 45,
   "id": "0b48a33f",
   "metadata": {},
   "outputs": [],
   "source": [
    "def productExceptSelf(nums: List[int]) -> List[int]:\n",
    "    prod_list = []\n",
    "    for i in range(len(nums)):\n",
    "        sub_list = nums[:i] + nums[i+1:]\n",
    "        prod_list.append(math.prod(sub_list))\n",
    "    return prod_list"
   ]
  },
  {
   "cell_type": "code",
   "execution_count": 47,
   "id": "1d1722f1",
   "metadata": {},
   "outputs": [
    {
     "data": {
      "text/plain": [
       "[0, 0, 9, 0, 0]"
      ]
     },
     "execution_count": 47,
     "metadata": {},
     "output_type": "execute_result"
    }
   ],
   "source": [
    "productExceptSelf(nums2)"
   ]
  },
  {
   "cell_type": "markdown",
   "id": "5961205a",
   "metadata": {},
   "source": [
    "## Increasing Triplet Subsequence\n",
    "\n",
    "Given an integer array nums, return true if there exists a triple of indices (i, j, k) such that i < j < k and nums[i] < nums[j] < nums[k]. If no such indices exists, return false."
   ]
  },
  {
   "cell_type": "code",
   "execution_count": 48,
   "id": "101ff340",
   "metadata": {},
   "outputs": [],
   "source": [
    "nums1 = [1, 2, 3, 4, 5]\n",
    "nums2 = [5, 4, 3, 2, 1]\n",
    "nums3 = [2, 1, 5, 0, 4, 6]"
   ]
  },
  {
   "cell_type": "code",
   "execution_count": 55,
   "id": "f4f13e61",
   "metadata": {},
   "outputs": [],
   "source": [
    "def increasingTriplet(nums: List[int]) -> bool:\n",
    "    for i in range(len(nums) - 2):\n",
    "        if nums[i] < nums[i+1] and nums[i+1] < nums[i+2]:\n",
    "            return True\n",
    "    return False"
   ]
  },
  {
   "cell_type": "code",
   "execution_count": 58,
   "id": "a815cbbb",
   "metadata": {},
   "outputs": [
    {
     "data": {
      "text/plain": [
       "True"
      ]
     },
     "execution_count": 58,
     "metadata": {},
     "output_type": "execute_result"
    }
   ],
   "source": [
    "increasingTriplet(nums3)"
   ]
  },
  {
   "cell_type": "markdown",
   "id": "49cd4143",
   "metadata": {},
   "source": [
    "## String Compression\n",
    "\n",
    "Given an array of characters chars, compress it using the following algorithm:\n",
    "\n",
    "Begin with an empty string s. For each group of consecutive repeating characters in chars:\n",
    "\n",
    "* If the group's length is 1, append the character to s.\n",
    "* Otherwise, append the character followed by the group's length.\n",
    "\n",
    "The compressed string s should not be returned separately, but instead, be stored in the input character array chars. Note that group lengths that are 10 or longer will be split into multiple characters in chars.\n",
    "\n",
    "After you are done modifying the input array, return the new length of the array.\n",
    "\n",
    "You must write an algorithm that uses only constant extra space."
   ]
  },
  {
   "cell_type": "code",
   "execution_count": 89,
   "id": "9fa4a1ce",
   "metadata": {},
   "outputs": [],
   "source": [
    "chars1 = [\"a\",\"a\",\"b\",\"b\",\"c\",\"c\",\"c\"]\n",
    "chars2 = [\"a\"]\n",
    "chars3 = [\"a\",\"b\",\"b\",\"b\",\"b\",\"b\",\"b\",\"b\",\"b\",\"b\",\"b\",\"b\",\"b\"]"
   ]
  },
  {
   "cell_type": "code",
   "execution_count": 90,
   "id": "9fe3d98b",
   "metadata": {},
   "outputs": [],
   "source": [
    "def compress(chars: List[str]) -> int:\n",
    "    i = 0\n",
    "    res = 0\n",
    "    while i < len(chars):\n",
    "        cnt = 1\n",
    "        while (i + cnt < len(chars) \n",
    "               and chars[i + cnt] == chars[i]):\n",
    "            cnt += 1\n",
    "        chars[res] = chars[i]\n",
    "        res += 1\n",
    "        if cnt > 1:\n",
    "            str_cnt = str(cnt)\n",
    "            chars[res:res+len(str_cnt)] = list(str_cnt)\n",
    "            res += len(str_cnt)\n",
    "        i += cnt\n",
    "    return res"
   ]
  },
  {
   "cell_type": "code",
   "execution_count": 93,
   "id": "5388ecfe",
   "metadata": {},
   "outputs": [
    {
     "data": {
      "text/plain": [
       "6"
      ]
     },
     "execution_count": 93,
     "metadata": {},
     "output_type": "execute_result"
    }
   ],
   "source": [
    "compress(chars1)"
   ]
  },
  {
   "cell_type": "code",
   "execution_count": null,
   "id": "dff20505",
   "metadata": {},
   "outputs": [],
   "source": []
  }
 ],
 "metadata": {
  "kernelspec": {
   "display_name": "Python 3 (ipykernel)",
   "language": "python",
   "name": "python3"
  },
  "language_info": {
   "codemirror_mode": {
    "name": "ipython",
    "version": 3
   },
   "file_extension": ".py",
   "mimetype": "text/x-python",
   "name": "python",
   "nbconvert_exporter": "python",
   "pygments_lexer": "ipython3",
   "version": "3.8.16"
  }
 },
 "nbformat": 4,
 "nbformat_minor": 5
}
