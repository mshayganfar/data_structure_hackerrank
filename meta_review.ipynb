{
 "cells": [
  {
   "cell_type": "markdown",
   "id": "98bb0715",
   "metadata": {},
   "source": [
    "# Arrays\n",
    "\n",
    "## Reverse to Make Equal\n",
    "\n",
    "Given two arrays A and B of length N, determine if there is a way to make A equal to B by reversing any subarrays from array B any number of times."
   ]
  },
  {
   "cell_type": "code",
   "execution_count": 8,
   "id": "e6131ceb",
   "metadata": {},
   "outputs": [],
   "source": [
    "A = [1, 2, 3, 4]\n",
    "B = [1, 4, 3, 2]"
   ]
  },
  {
   "cell_type": "code",
   "execution_count": 2,
   "id": "8d6fcf7f",
   "metadata": {},
   "outputs": [],
   "source": [
    "def are_they_equal(array_a, array_b):\n",
    "    a_sorted = sorted(array_a)\n",
    "    b_sorted = sorted(array_b)\n",
    "\n",
    "    return a_sorted == b_sorted"
   ]
  },
  {
   "cell_type": "code",
   "execution_count": 9,
   "id": "3a2311c0",
   "metadata": {},
   "outputs": [
    {
     "data": {
      "text/plain": [
       "True"
      ]
     },
     "execution_count": 9,
     "metadata": {},
     "output_type": "execute_result"
    }
   ],
   "source": [
    "are_they_equal(A, B)"
   ]
  },
  {
   "cell_type": "markdown",
   "id": "3d4b05e5",
   "metadata": {},
   "source": [
    "## Passing Yearbooks\n",
    "\n",
    "There are n students, numbered from 1 to n, each with their own yearbook. They would like to pass their yearbooks around and get them signed by other students.\n",
    "\n",
    "You're given a list of n integers arr[1..n], which is guaranteed to be a permutation of 1..n (in other words, it includes the integers from 1 to n exactly once each, in some order). The meaning of this list is described below.\n",
    "\n",
    "Initially, each student is holding their own yearbook. The students will then repeat the following two steps each minute: Each student i will first sign the yearbook that they're currently holding (which may either belong to themselves or to another student), and then they'll pass it to student arr[i-1]. It's possible that arr[i-1] = i for any given i, in which case student i will pass their yearbook back to themselves. Once a student has received their own yearbook back, they will hold on to it and no longer participate in the passing process.\n",
    "\n",
    "It's guaranteed that, for any possible valid input, each student will eventually receive their own yearbook back and will never end up holding more than one yearbook at a time.\n",
    "\n",
    "You must compute a list of n integers output, whose element at i-1 is equal to the number of signatures that will be present in student i's yearbook once they receive it back."
   ]
  },
  {
   "cell_type": "code",
   "execution_count": 14,
   "id": "56600d59",
   "metadata": {},
   "outputs": [],
   "source": [
    "A = [1 ,2]\n",
    "B = [2 ,1]\n",
    "C = [5, 3, 9, 4, 1, 8, 6, 2, 7]"
   ]
  },
  {
   "cell_type": "code",
   "execution_count": 38,
   "id": "621c946d",
   "metadata": {},
   "outputs": [],
   "source": [
    "def findSignatureCounts(arr):\n",
    "    visited_students = set()\n",
    "    signatures = [0] * len(arr)\n",
    "    student_group = []\n",
    "    \n",
    "    for i in range(len(arr)):\n",
    "        student = arr[i]\n",
    "        if student in visited_students:\n",
    "            continue\n",
    "        \n",
    "        visited_students.add(student)\n",
    "        student_group.append(student)\n",
    "        \n",
    "        next_index = student - 1\n",
    "        while next_index != i:\n",
    "            next_student = arr[next_index]\n",
    "            student_group.append(next_student)\n",
    "            visited_students.add(next_student)\n",
    "            next_index = next_student - 1\n",
    "        \n",
    "        for sg_index in student_group:\n",
    "            signatures[sg_index-1] = len(student_group)\n",
    "        \n",
    "        student_group.clear()\n",
    "            \n",
    "    return signatures"
   ]
  },
  {
   "cell_type": "code",
   "execution_count": 39,
   "id": "9a6c7776",
   "metadata": {},
   "outputs": [
    {
     "data": {
      "text/plain": [
       "[2, 6, 6, 1, 2, 6, 6, 6, 6]"
      ]
     },
     "execution_count": 39,
     "metadata": {},
     "output_type": "execute_result"
    }
   ],
   "source": [
    "findSignatureCounts(C)"
   ]
  },
  {
   "cell_type": "markdown",
   "id": "65dbc4e8",
   "metadata": {},
   "source": [
    "## Contiguous Subarrays\n",
    "\n",
    "You are given an array arr of N integers. For each index i, you are required to determine the number of contiguous subarrays that fulfill the following conditions:\n",
    "\n",
    "* The value at index i must be the maximum element in the contiguous subarrays, and\n",
    "* These contiguous subarrays must either start from or end on index i."
   ]
  },
  {
   "cell_type": "code",
   "execution_count": 48,
   "id": "6db84725",
   "metadata": {},
   "outputs": [],
   "source": [
    "A = [3, 4, 1, 6, 2]\n",
    "B = [2, 4, 7, 1, 5, 3]"
   ]
  },
  {
   "cell_type": "code",
   "execution_count": 49,
   "id": "aeffc3e8",
   "metadata": {},
   "outputs": [],
   "source": [
    "def count_subarrays(arr):\n",
    "    output = [1] * len(arr)\n",
    "    for i in range(len(arr)):\n",
    "        left_index = i - 1\n",
    "        sub_cnt = 0\n",
    "        while left_index >= 0:\n",
    "            if arr[left_index] < arr[i]:\n",
    "                sub_cnt += 1\n",
    "                left_index -= 1\n",
    "            else:\n",
    "                break\n",
    "        right_index = i + 1\n",
    "        while right_index < len(arr):\n",
    "            if arr[right_index] < arr[i]:\n",
    "                sub_cnt += 1\n",
    "                right_index += 1\n",
    "            else:\n",
    "                break\n",
    "        output[i] += sub_cnt\n",
    "    return output"
   ]
  },
  {
   "cell_type": "code",
   "execution_count": 50,
   "id": "42422a27",
   "metadata": {},
   "outputs": [
    {
     "data": {
      "text/plain": [
       "[1, 2, 6, 1, 3, 1]"
      ]
     },
     "execution_count": 50,
     "metadata": {},
     "output_type": "execute_result"
    }
   ],
   "source": [
    "count_subarrays(B)"
   ]
  },
  {
   "cell_type": "markdown",
   "id": "09e7b080",
   "metadata": {},
   "source": [
    "# Strings\n",
    "\n",
    "## Rotational Cipher\n",
    "\n",
    "One simple way to encrypt a string is to \"rotate\" every alphanumeric character by a certain amount. Rotating a character means replacing it with another character that is a certain number of steps away in normal alphabetic or numerical order.\n",
    "\n",
    "For example, if the string \"Zebra-493?\" is rotated 3 places, the resulting string is \"Cheud-726?\". Every alphabetic character is replaced with the character 3 letters higher (wrapping around from Z to A), and every numeric character replaced with the character 3 digits higher (wrapping around from 9 to 0). Note that the non-alphanumeric characters remain unchanged.\n",
    "\n",
    "Given a string and a rotation factor, return an encrypted string."
   ]
  },
  {
   "cell_type": "code",
   "execution_count": 91,
   "id": "946460e0",
   "metadata": {},
   "outputs": [],
   "source": [
    "A = \"All-convoYs-9-be:Alert1.\"\n",
    "B = \"abcdZXYzxy-999.@\"\n",
    "C = \"abcdefghijklmNOPQRSTUVWXYZ0123456789\"\n",
    "rf = 200"
   ]
  },
  {
   "cell_type": "code",
   "execution_count": 89,
   "id": "8bb9ac56",
   "metadata": {},
   "outputs": [],
   "source": [
    "def rotationalCipher(input_str, rotation_factor):  \n",
    "    output = []\n",
    "    for ch in input_str:\n",
    "        if ch.isalnum():\n",
    "            if ch.isdigit():\n",
    "                output.append(chr((((ord(ch) + rotation_factor) - ord('0')) % 10) + ord('0')))\n",
    "            elif ch.isupper():\n",
    "                output.append(chr((((ord(ch) + rotation_factor) - ord('A')) % 26) + ord('A')))\n",
    "            elif ch.islower():\n",
    "                output.append(chr((((ord(ch) + rotation_factor) - ord('a')) % 26) + ord('a')))\n",
    "        else:\n",
    "            output.append(ch)\n",
    "    return ''.join(output)"
   ]
  },
  {
   "cell_type": "code",
   "execution_count": 92,
   "id": "9a3af79a",
   "metadata": {},
   "outputs": [
    {
     "data": {
      "text/plain": [
       "'stuvRPQrpq-999.@'"
      ]
     },
     "execution_count": 92,
     "metadata": {},
     "output_type": "execute_result"
    }
   ],
   "source": [
    "rotationalCipher(B, rf)"
   ]
  },
  {
   "cell_type": "markdown",
   "id": "dfada42d",
   "metadata": {},
   "source": [
    "## Matching Pairs\n",
    "\n",
    "Given two strings s and t of length N, find the maximum number of possible matching pairs in strings s and t after swapping exactly two characters within s.\n",
    "\n",
    "A swap is switching s[i] and s[j], where s[i] and s[j] denotes the character that is present at the ith and jth index of s, respectively. The matching pairs of the two strings are defined as the number of indices for which s[i] and t[i] are equal.\n",
    "\n",
    "Note: This means you must swap two characters at different indices."
   ]
  },
  {
   "cell_type": "code",
   "execution_count": 136,
   "id": "149f391a",
   "metadata": {},
   "outputs": [],
   "source": [
    "s1, t1 = \"abcde\", \"adcbe\"\n",
    "s2, t2 = \"abcd\", \"abcd\"\n",
    "s3, t3 = \"mno\", \"mno\"\n",
    "s4, t4 = \"abcd\", \"adcb\""
   ]
  },
  {
   "cell_type": "code",
   "execution_count": 131,
   "id": "5d8bb192",
   "metadata": {},
   "outputs": [],
   "source": [
    "def matching_pairs(s, t):\n",
    "    output = 0\n",
    "    str_diff = []\n",
    "    for i in range(len(s)):\n",
    "        str_diff.append(abs(ord(s[i])-ord(t[i])))\n",
    "\n",
    "    output = str_diff.count(0)\n",
    "    \n",
    "    s = list(s)\n",
    "    if len(str_diff) == output: # If both strings are identical\n",
    "        s[0], s[1] = s[1], s[0]\n",
    "        output -= 2\n",
    "    else: # Find and swap if there are descrepencies at list in two indices\n",
    "        indices = [i for i in range(len(str_diff)) if str_diff[i] != 0]\n",
    "        if len(indices) >= 2:\n",
    "            s[indices[0]], s[indices[1]] = s[indices[1]], s[indices[0]]\n",
    "            output += 2\n",
    "\n",
    "    return output"
   ]
  },
  {
   "cell_type": "code",
   "execution_count": 137,
   "id": "125ff4f9",
   "metadata": {},
   "outputs": [
    {
     "data": {
      "text/plain": [
       "4"
      ]
     },
     "execution_count": 137,
     "metadata": {},
     "output_type": "execute_result"
    }
   ],
   "source": [
    "matching_pairs(s4, t4)"
   ]
  },
  {
   "cell_type": "markdown",
   "id": "06a1dd56",
   "metadata": {},
   "source": [
    "## Minimum Length Substrings\n",
    "\n",
    "You are given two strings s and t. You can select any substring of string s and rearrange the characters of the selected substring. Determine the minimum length of the substring of s such that string t is a substring of the selected substring."
   ]
  },
  {
   "cell_type": "code",
   "execution_count": 174,
   "id": "40783266",
   "metadata": {},
   "outputs": [],
   "source": [
    "s1, t1 = \"dcbefebce\", \"fd\"\n",
    "s2, t2 = \"bfbeadbcbcbfeaaeefcddcccbbbfaaafdbebedddf\", \"cbccfafebccdccebdd\""
   ]
  },
  {
   "cell_type": "code",
   "execution_count": 178,
   "id": "e33dc3e8",
   "metadata": {},
   "outputs": [],
   "source": [
    "def min_length_substring(s, t):\n",
    "    t_set = {c for c in t}\n",
    "    \n",
    "    t_dict= {}\n",
    "    for c in t_set:\n",
    "        t_dict[c] = t.count(c)\n",
    "    \n",
    "    sub_exists = False\n",
    "    for i in range(len(t), len(s)):\n",
    "        for k, v in t_dict.items(): \n",
    "            if s[:i].count(k) != v:\n",
    "                break\n",
    "            sub_exists = True\n",
    "        if sub_exists == True:\n",
    "            return i\n",
    "\n",
    "    return -1"
   ]
  },
  {
   "cell_type": "code",
   "execution_count": 180,
   "id": "4e71c09b",
   "metadata": {},
   "outputs": [
    {
     "data": {
      "text/plain": [
       "5"
      ]
     },
     "execution_count": 180,
     "metadata": {},
     "output_type": "execute_result"
    }
   ],
   "source": [
    "min_length_substring(s1, t1)"
   ]
  },
  {
   "cell_type": "markdown",
   "id": "65aae995",
   "metadata": {},
   "source": [
    "# Hash Tables\n",
    "\n",
    "## Pair Sums\n",
    "\n",
    "Given a list of n integers arr[0..(n-1)], determine the number of different pairs of elements within it which sum to k.\n",
    "\n",
    "If an integer appears in the list multiple times, each copy is considered to be different; that is, two pairs are considered different if one pair includes at least one array index which the other doesn't, even if they include the same values."
   ]
  },
  {
   "cell_type": "code",
   "execution_count": 198,
   "id": "53f09aa8",
   "metadata": {},
   "outputs": [],
   "source": [
    "k = 6\n",
    "arr1 = [1, 2, 3, 4, 3]\n",
    "arr2 = [1, 5, 3, 3, 3]"
   ]
  },
  {
   "cell_type": "code",
   "execution_count": 199,
   "id": "e46ce82c",
   "metadata": {},
   "outputs": [],
   "source": [
    "from itertools import combinations\n",
    "\n",
    "def numberOfWays(arr, k):\n",
    "    list_perm = list(combinations(arr, 2))\n",
    "\n",
    "    pair_sum_dict = {}\n",
    "    for item in list_perm:\n",
    "        key = item[0]+item[1]\n",
    "        if key not in pair_sum_dict.keys():\n",
    "            val_list = []\n",
    "            val_list.append(item)\n",
    "            pair_sum_dict[key] = val_list\n",
    "        else:\n",
    "            pair_sum_dict[key].append(item)\n",
    "\n",
    "    return len(pair_sum_dict[k])"
   ]
  },
  {
   "cell_type": "code",
   "execution_count": 200,
   "id": "8e91c418",
   "metadata": {},
   "outputs": [
    {
     "data": {
      "text/plain": [
       "4"
      ]
     },
     "execution_count": 200,
     "metadata": {},
     "output_type": "execute_result"
    }
   ],
   "source": [
    "numberOfWays(arr2, k)"
   ]
  },
  {
   "cell_type": "markdown",
   "id": "98fc907e",
   "metadata": {},
   "source": [
    "# Search\n",
    "\n",
    "## Revenue Milestones\n",
    "\n",
    "We keep track of the revenue Facebook makes every day, and we want to know on what days Facebook hits certain revenue milestones. Given an array of the revenue on each day, and an array of milestones Facebook wants to reach, return an array containing the days on which Facebook reached every milestone."
   ]
  },
  {
   "cell_type": "code",
   "execution_count": 3,
   "id": "172e75d5",
   "metadata": {},
   "outputs": [],
   "source": [
    "R1 = [10, 20, 30, 40, 50, 60, 70, 80, 90, 100]\n",
    "M1 = [100, 200, 500]\n",
    "\n",
    "R2 = [100, 200, 300, 400, 500]\n",
    "M2 = [300, 800, 1000, 1400]\n",
    "\n",
    "R3 = [700, 800, 600, 400, 600, 700]\n",
    "M3 = [3100, 2200, 800, 2100, 1000] "
   ]
  },
  {
   "cell_type": "code",
   "execution_count": 4,
   "id": "b40ffb7e",
   "metadata": {},
   "outputs": [],
   "source": [
    "from itertools import accumulate"
   ]
  },
  {
   "cell_type": "code",
   "execution_count": 56,
   "id": "bd3f7e19",
   "metadata": {},
   "outputs": [],
   "source": [
    "def getMilestoneDays(revenues, milestones):\n",
    "    revenue_acc_list = list(accumulate(revenues))\n",
    "\n",
    "    days = []\n",
    "    for milestone in milestones:\n",
    "        left = 0\n",
    "        right = len(revenue_acc_list) - 1\n",
    "\n",
    "        while left <= right:\n",
    "            middle = (left + right) // 2\n",
    "\n",
    "            if revenue_acc_list[middle] == milestone:\n",
    "                days.append(middle + 1)\n",
    "                break\n",
    "            elif (revenue_acc_list[middle+1] > milestone) and (revenue_acc_list[middle] < milestone):\n",
    "                days.append(middle + 2)\n",
    "                break\n",
    "            elif revenue_acc_list[middle] > milestone:\n",
    "                right = middle - 1\n",
    "            elif revenue_acc_list[middle] < milestone:\n",
    "                left = middle + 1\n",
    "\n",
    "\n",
    "    if len(days) == 0:\n",
    "        return -1\n",
    "\n",
    "    return days"
   ]
  },
  {
   "cell_type": "code",
   "execution_count": 57,
   "id": "346389a0",
   "metadata": {},
   "outputs": [
    {
     "data": {
      "text/plain": [
       "[4, 6, 10]"
      ]
     },
     "execution_count": 57,
     "metadata": {},
     "output_type": "execute_result"
    }
   ],
   "source": [
    "getMilestoneDays(R1, M1)"
   ]
  },
  {
   "cell_type": "markdown",
   "id": "457afb9b",
   "metadata": {},
   "source": [
    "## 1 Billion Users\n",
    "\n",
    "We have N different apps with different user growth rates. At a given time t, measured in days, the number of users using an app is g^t (for simplicity we'll allow fractional users), where g is the growth rate for that app. These apps will all be launched at the same time and no user ever uses more than one of the apps. We want to know how many total users there are when you add together the number of users from each app.\n",
    "\n",
    "After how many full days will we have 1 billion total users across the N apps?"
   ]
  },
  {
   "cell_type": "code",
   "execution_count": 66,
   "id": "e80dbe10",
   "metadata": {},
   "outputs": [],
   "source": [
    "GR1 = [1.5]\n",
    "GR2 = [1.1, 1.2, 1.3]\n",
    "GR3 = [1.01, 1.02]"
   ]
  },
  {
   "cell_type": "code",
   "execution_count": 84,
   "id": "4df5746f",
   "metadata": {},
   "outputs": [],
   "source": [
    "def get_users_count(growthRates, t):\n",
    "    \n",
    "    total_users = 0\n",
    "    for growth_rate in growthRates:\n",
    "        total_users += (growth_rate ** t)\n",
    "\n",
    "    return total_users"
   ]
  },
  {
   "cell_type": "code",
   "execution_count": 85,
   "id": "627bd9dd",
   "metadata": {},
   "outputs": [],
   "source": [
    "def getBillionUsersDay(growthRates):\n",
    "    \n",
    "    total_user_count = 1000000000\n",
    "    \n",
    "    t = [d for d in range(1500)]\n",
    "\n",
    "    left = 0\n",
    "    right = len(t) - 1\n",
    "    \n",
    "    while left <= right:\n",
    "        middle = (left + right) // 2\n",
    "\n",
    "        num_users = get_users_count(growthRates, middle)\n",
    "        if (get_users_count(growthRates, middle - 1) < total_user_count) and (num_users >= total_user_count):\n",
    "            return middle\n",
    "        elif num_users > total_user_count:\n",
    "            right = middle - 1\n",
    "        elif num_users < total_user_count:\n",
    "            left = middle + 1\n",
    "    \n",
    "    return -1"
   ]
  },
  {
   "cell_type": "code",
   "execution_count": 88,
   "id": "6185db9f",
   "metadata": {},
   "outputs": [
    {
     "data": {
      "text/plain": [
       "52"
      ]
     },
     "execution_count": 88,
     "metadata": {},
     "output_type": "execute_result"
    }
   ],
   "source": [
    "getBillionUsersDay(GR1)"
   ]
  },
  {
   "cell_type": "markdown",
   "id": "e8eea094",
   "metadata": {},
   "source": [
    "# Sorting\n",
    "\n",
    "## Merge Sort"
   ]
  },
  {
   "cell_type": "code",
   "execution_count": 183,
   "id": "f6c7e6fe",
   "metadata": {},
   "outputs": [],
   "source": [
    "A = [2, 3, 5, 1, 7, 4, 4, 4, 2, 6, 0]"
   ]
  },
  {
   "cell_type": "code",
   "execution_count": 184,
   "id": "41f2508f",
   "metadata": {},
   "outputs": [],
   "source": [
    "def merge_sorted_lists(actual_list, left_list, right_list):\n",
    "\n",
    "    left_len = len(left_list)\n",
    "    right_len = len(right_list)\n",
    "    i = j = k = 0\n",
    "        \n",
    "    while i < left_len and j < right_len:\n",
    "        if left_list[i] <= right_list[j]:\n",
    "            actual_list[k] = left_list[i]\n",
    "            i += 1\n",
    "        else:\n",
    "            actual_list[k] = right_list[j]\n",
    "            j += 1\n",
    "        k += 1\n",
    "        \n",
    "    while i < left_len:\n",
    "        actual_list[k] = left_list[i]\n",
    "        i += 1\n",
    "        k += 1\n",
    "        \n",
    "    while j < right_len:\n",
    "        actual_list[k] = right_list[j]\n",
    "        j += 1\n",
    "        k += 1"
   ]
  },
  {
   "cell_type": "code",
   "execution_count": 185,
   "id": "f0278099",
   "metadata": {},
   "outputs": [],
   "source": [
    "def merge_sort(input_list):\n",
    "    if len(input_list) <= 1:\n",
    "        return input_list\n",
    "\n",
    "    middle = len(input_list) // 2\n",
    "    left_list = input_list[:middle]\n",
    "    right_list = input_list[middle:]\n",
    "\n",
    "    merge_sort(left_list)\n",
    "    merge_sort(right_list)\n",
    "\n",
    "    merge_sorted_lists(input_list, left_list, right_list)"
   ]
  },
  {
   "cell_type": "code",
   "execution_count": 186,
   "id": "0aa8d132",
   "metadata": {},
   "outputs": [],
   "source": [
    "merge_sort(A)"
   ]
  },
  {
   "cell_type": "code",
   "execution_count": 187,
   "id": "5c5d28c0",
   "metadata": {},
   "outputs": [
    {
     "name": "stdout",
     "output_type": "stream",
     "text": [
      "[0, 1, 2, 2, 3, 4, 4, 4, 5, 6, 7]\n"
     ]
    }
   ],
   "source": [
    "print(A)"
   ]
  },
  {
   "cell_type": "markdown",
   "id": "fd596462",
   "metadata": {},
   "source": [
    "## Balanced Split\n",
    "\n",
    "Given an array of integers (which may include repeated integers), determine if there's a way to split the array into two subsequences A and B such that the sum of the integers in both arrays is the same, and all of the integers in A are strictly smaller than all of the integers in B.\n",
    "\n",
    "Note: Strictly smaller denotes that every integer in A must be less than, and not equal to, every integer in B."
   ]
  },
  {
   "cell_type": "code",
   "execution_count": 173,
   "id": "c80b3734",
   "metadata": {},
   "outputs": [],
   "source": [
    "A = [1, 5, 7, 1]\n",
    "B = [12, 7, 6, 7, 6]\n",
    "C = [2, 1, 2, 5]\n",
    "D = [3, 6, 3, 4, 4]"
   ]
  },
  {
   "cell_type": "code",
   "execution_count": 174,
   "id": "ad2329d8",
   "metadata": {},
   "outputs": [],
   "source": [
    "def balancedSplitExists(arr):\n",
    "    merge_sort(arr)\n",
    "    \n",
    "    i = j = 1\n",
    "    max_right = left_sum = arr[0]\n",
    "    min_left = right_sum = arr[-1]\n",
    "    \n",
    "    while (i+j) < len(arr):\n",
    "        if left_sum <= right_sum:\n",
    "            left_sum += arr[i]\n",
    "            max_right = max(max_right, arr[i])\n",
    "            i += 1\n",
    "        else:    \n",
    "            j += 1\n",
    "            right_sum += arr[-j]\n",
    "            min_left = min(min_left, arr[-j])\n",
    "    \n",
    "    if left_sum == right_sum and max_right < min_left:\n",
    "        return True\n",
    "    \n",
    "    return False"
   ]
  },
  {
   "cell_type": "code",
   "execution_count": 177,
   "id": "cd602a92",
   "metadata": {},
   "outputs": [
    {
     "data": {
      "text/plain": [
       "False"
      ]
     },
     "execution_count": 177,
     "metadata": {},
     "output_type": "execute_result"
    }
   ],
   "source": [
    "balancedSplitExists(D)"
   ]
  },
  {
   "cell_type": "markdown",
   "id": "32f161ce",
   "metadata": {},
   "source": [
    "## Counting Triangles\n",
    "\n",
    "Given a list of N triangles with integer side lengths, determine how many different triangles there are. Two triangles are considered to be the same if they can both be placed on the plane such that their vertices occupy exactly the same three points."
   ]
  },
  {
   "cell_type": "code",
   "execution_count": 206,
   "id": "1730f833",
   "metadata": {},
   "outputs": [],
   "source": [
    "A = [[2, 2, 3], [3, 2, 2], [2, 5, 6]]\n",
    "B = [[8, 4, 6], [100, 101, 102], [84, 93, 173]]\n",
    "C = [[5, 8, 9], [5, 9, 8], [9, 5, 8], [9, 8, 5], [8, 9, 5], [8, 5, 9]]\n",
    "D = [(7, 6, 5), (5, 7, 6), (8, 2, 9), (2, 3, 4), (2, 4, 3)]\n",
    "E = [(3, 4, 5), (8, 8, 9), (7, 7, 7)]"
   ]
  },
  {
   "cell_type": "code",
   "execution_count": 202,
   "id": "93e6330b",
   "metadata": {},
   "outputs": [],
   "source": [
    "def countDistinctTriangles(arr):\n",
    "    \n",
    "    distinct_triangles = set()\n",
    "    triangle_cnt = 0\n",
    "    for sides in arr:\n",
    "        sorted_sides = tuple(sorted(sides))\n",
    "        if sorted_sides not in distinct_triangles:\n",
    "            distinct_triangles.add(sorted_sides)\n",
    "\n",
    "    return len(distinct_triangles)"
   ]
  },
  {
   "cell_type": "code",
   "execution_count": 209,
   "id": "10303ede",
   "metadata": {},
   "outputs": [
    {
     "data": {
      "text/plain": [
       "3"
      ]
     },
     "execution_count": 209,
     "metadata": {},
     "output_type": "execute_result"
    }
   ],
   "source": [
    "countDistinctTriangles(E)"
   ]
  },
  {
   "cell_type": "markdown",
   "id": "fb7159f4",
   "metadata": {},
   "source": [
    "# Recursion\n",
    "\n",
    "## Encrypted Words\n",
    "\n",
    "You've devised a simple encryption method for alphabetic strings that shuffles the characters in such a way that the resulting string is hard to quickly read, but is easy to convert back into the original string.\n",
    "\n",
    "When you encrypt a string S, you start with an initially-empty resulting string R and append characters to it as follows:\n",
    "\n",
    "* Append the middle character of S (if S has even length, then we define the middle character as the left-most of the two central characters)\n",
    "* Append the encrypted version of the substring of S that's to the left of the middle character (if non-empty)\n",
    "* Append the encrypted version of the substring of S that's to the right of the middle character (if non-empty)\n",
    "\n",
    "For example, to encrypt the string \"abc\", we first take \"b\", and then append the encrypted version of \"a\" (which is just \"a\") and the encrypted version of \"c\" (which is just \"c\") to get \"bac\".\n",
    "\n",
    "If we encrypt \"abcxcba\" we'll get \"xbacbca\". That is, we take \"x\" and then append the encrypted version \"abc\" and then append the encrypted version of \"cba\"."
   ]
  },
  {
   "cell_type": "code",
   "execution_count": 280,
   "id": "cf69eb93",
   "metadata": {},
   "outputs": [],
   "source": [
    "S1 = \"abc\"\n",
    "S2 = \"abcd\"\n",
    "S3 = \"abcxcba\"\n",
    "S4 = \"facebook\""
   ]
  },
  {
   "cell_type": "code",
   "execution_count": 403,
   "id": "79cb6a6e",
   "metadata": {},
   "outputs": [],
   "source": [
    "def encrypt_string(s, r):\n",
    "    \n",
    "    if len(s) >= 1:\n",
    "        middle = (len(s)-1)//2\n",
    "        left_s = s[:middle]\n",
    "        right_s = s[middle+1:]\n",
    "        \n",
    "        r.append(s[middle])\n",
    "\n",
    "        encrypt_string(left_s, r)\n",
    "        encrypt_string(right_s, r)\n",
    "        \n",
    "        return r"
   ]
  },
  {
   "cell_type": "code",
   "execution_count": 408,
   "id": "52fcab25",
   "metadata": {},
   "outputs": [],
   "source": [
    "def findEncryptedWord(s):\n",
    "\n",
    "    r = []\n",
    "    r = encrypt_string(s, r)\n",
    "    return ''.join(r)"
   ]
  },
  {
   "cell_type": "code",
   "execution_count": 409,
   "id": "1c298fae",
   "metadata": {},
   "outputs": [
    {
     "data": {
      "text/plain": [
       "'eafcobok'"
      ]
     },
     "execution_count": 409,
     "metadata": {},
     "output_type": "execute_result"
    }
   ],
   "source": [
    "findEncryptedWord(S4)"
   ]
  },
  {
   "cell_type": "markdown",
   "id": "cfcc1493",
   "metadata": {},
   "source": [
    "## Change in a Foreign Currency\n",
    "\n",
    "You likely know that different currencies have coins and bills of different denominations. In some currencies, it's actually impossible to receive change for a given amount of money. For example, Canada has given up the 1-cent penny. If you're owed 94 cents in Canada, a shopkeeper will graciously supply you with 95 cents instead since there exists a 5-cent coin.\n",
    "\n",
    "Given a list of the available denominations, determine if it's possible to receive exact change for an amount of money targetMoney. Both the denominations and target amount will be given in generic units of that currency."
   ]
  },
  {
   "cell_type": "code",
   "execution_count": 686,
   "id": "2b141c87",
   "metadata": {},
   "outputs": [],
   "source": [
    "D1 = [5, 10, 25, 100, 200]\n",
    "T1 = 94\n",
    "\n",
    "D2 = [4, 17, 29]\n",
    "T2 = 75"
   ]
  },
  {
   "cell_type": "code",
   "execution_count": 683,
   "id": "24ed7591",
   "metadata": {},
   "outputs": [],
   "source": [
    "def canGetExactChange(targetMoney, denominations):\n",
    "    \n",
    "    if targetMoney == 0:\n",
    "        return True\n",
    "    if targetMoney < 0:\n",
    "        return False\n",
    "    \n",
    "    for d in denominations:\n",
    "        if canGetExactChange(targetMoney-d, denominations):\n",
    "            return True\n",
    "    return False"
   ]
  },
  {
   "cell_type": "code",
   "execution_count": 685,
   "id": "4a09fb4f",
   "metadata": {},
   "outputs": [
    {
     "name": "stdout",
     "output_type": "stream",
     "text": [
      "False\n"
     ]
    }
   ],
   "source": [
    "print(canGetExactChange(T1, D1))"
   ]
  },
  {
   "cell_type": "code",
   "execution_count": 687,
   "id": "7c5c0016",
   "metadata": {},
   "outputs": [],
   "source": [
    "def canGetExactChange(targetMoney, denominations):\n",
    "    \n",
    "    if targetMoney == 0:\n",
    "        return True\n",
    "    if targetMoney < 0:\n",
    "        return False\n",
    "    \n",
    "    for i in range(len(denominations)):\n",
    "        if canGetExactChange(targetMoney-denominations[i], denominations[i:]):\n",
    "            return True\n",
    "    return False"
   ]
  },
  {
   "cell_type": "code",
   "execution_count": 689,
   "id": "cbe1e8fc",
   "metadata": {},
   "outputs": [
    {
     "name": "stdout",
     "output_type": "stream",
     "text": [
      "True\n"
     ]
    }
   ],
   "source": [
    "print(canGetExactChange(T2, D2))"
   ]
  },
  {
   "cell_type": "markdown",
   "id": "96376ad8",
   "metadata": {},
   "source": [
    "# Stacks"
   ]
  },
  {
   "cell_type": "code",
   "execution_count": 696,
   "id": "9bdf0e42",
   "metadata": {},
   "outputs": [],
   "source": [
    "class Node:\n",
    "    def __init__(self, value):\n",
    "        self.value = value\n",
    "        self.next = None\n",
    "        \n",
    "class Stack:\n",
    "    def __init__(self):\n",
    "        self.top = None\n",
    "        self.stack_size = 0\n",
    "    \n",
    "    def push(self, value):\n",
    "        node = Node(value)\n",
    "        node.next = self.top\n",
    "        self.top = node\n",
    "        self.stack_size += 1\n",
    "        \n",
    "    def pop(self):\n",
    "        if self.top:\n",
    "            self.stack_size -= 1\n",
    "            value = self.top.value\n",
    "            self.top = self.top.next\n",
    "            return value \n",
    "        else:\n",
    "            raise Exception('Stack is empty!')\n",
    "        \n",
    "    def peek(self):\n",
    "        if self.top:\n",
    "            return self.top.value\n",
    "        raise Exception('Stack is empty!')\n",
    "        \n",
    "    def size(self):\n",
    "        return self.stack_size"
   ]
  },
  {
   "cell_type": "code",
   "execution_count": 700,
   "id": "d89df1b5",
   "metadata": {},
   "outputs": [
    {
     "name": "stdout",
     "output_type": "stream",
     "text": [
      "0\n",
      "5\n",
      "5\n",
      "5\n",
      "4\n"
     ]
    }
   ],
   "source": [
    "stack = Stack()\n",
    "array = [1, 2, 3, 4, 5]\n",
    "print(stack.size())\n",
    "\n",
    "for a in array:\n",
    "    stack.push(a)\n",
    "\n",
    "print(stack.peek())\n",
    "print(stack.size())\n",
    "print(stack.pop())\n",
    "print(stack.size())"
   ]
  },
  {
   "cell_type": "markdown",
   "id": "54ee5e87",
   "metadata": {},
   "source": [
    "## Balance Brackets\n",
    "\n",
    "A bracket is any of the following characters: (, ), {, }, [, or ].\n",
    "\n",
    "We consider two brackets to be matching if the first bracket is an open-bracket, e.g., (, {, or [, and the second bracket is a close-bracket of the same type. That means ( and ), [ and ], and { and } are the only pairs of matching brackets.\n",
    "\n",
    "Furthermore, a sequence of brackets is said to be balanced if the following conditions are met:\n",
    "1. The sequence is empty, or\n",
    "2. The sequence is composed of two or more non-empty sequences, all of which are balanced, or\n",
    "3. The first and last brackets of the sequence are matching, and the portion of the sequence without the first and last elements is balanced.\n",
    "\n",
    "You are given a string of brackets. Your task is to determine whether each sequence of brackets is balanced. If a string is balanced, return true, otherwise, return false"
   ]
  },
  {
   "cell_type": "code",
   "execution_count": 729,
   "id": "7ee4837f",
   "metadata": {},
   "outputs": [],
   "source": [
    "S1 = \"{[()]}\"\n",
    "S2 = \"{}()\"\n",
    "S3 = \"{(})\"\n",
    "S4 = \")\"\n",
    "S5 = \"{{[[(())]]}}\"\n",
    "S6 = \"{[[[(())]]}}\""
   ]
  },
  {
   "cell_type": "code",
   "execution_count": 732,
   "id": "44757986",
   "metadata": {},
   "outputs": [],
   "source": [
    "def isBalanced(s):\n",
    "    if s == \"\":\n",
    "        return True\n",
    "    \n",
    "    if len(s) % 2 != 0:\n",
    "        return False\n",
    "    \n",
    "    open_brackets = ['(', '[', '{']\n",
    "    close_brackets = [')', ']', '}']\n",
    "    \n",
    "    stack = []\n",
    "    for i in range(len(s)):\n",
    "        if s[i] in open_brackets:\n",
    "            stack.append(s[i])\n",
    "        elif s[i] in close_brackets:\n",
    "            if stack[len(stack)-1] == open_brackets[close_brackets.index(s[i])]:\n",
    "                stack.pop()\n",
    "            else:\n",
    "                return False\n",
    "\n",
    "    if len(stack) == 0:\n",
    "        return True\n",
    "    else:\n",
    "        return False"
   ]
  },
  {
   "cell_type": "code",
   "execution_count": 739,
   "id": "1135a48e",
   "metadata": {},
   "outputs": [
    {
     "data": {
      "text/plain": [
       "False"
      ]
     },
     "execution_count": 739,
     "metadata": {},
     "output_type": "execute_result"
    }
   ],
   "source": [
    "isBalanced(S6)"
   ]
  },
  {
   "cell_type": "markdown",
   "id": "a2933802",
   "metadata": {},
   "source": [
    "# Queues"
   ]
  },
  {
   "cell_type": "code",
   "execution_count": 751,
   "id": "0985d743",
   "metadata": {},
   "outputs": [],
   "source": [
    "class Node:\n",
    "    def __init__(self, value):\n",
    "        self.value = value\n",
    "        self.next = None\n",
    "\n",
    "class Queue:\n",
    "    def __init__(self):\n",
    "        self.front = None\n",
    "        self.rear = None\n",
    "        \n",
    "    def enqueue(self, value):\n",
    "        node = Node(value)\n",
    "        \n",
    "        if self.rear:\n",
    "            self.rear.next = node\n",
    "        else:\n",
    "            self.front = node\n",
    "\n",
    "        self.rear = node\n",
    "    \n",
    "    def dequeue(self):\n",
    "        if not self.front:\n",
    "            raise Exception('Queue is empty!')\n",
    "\n",
    "        value = self.front.value\n",
    "        self.front = self.front.next\n",
    "        return value"
   ]
  },
  {
   "cell_type": "code",
   "execution_count": 752,
   "id": "dcc6a715",
   "metadata": {},
   "outputs": [
    {
     "name": "stdout",
     "output_type": "stream",
     "text": [
      "1\n",
      "2\n",
      "3\n",
      "4\n",
      "5\n"
     ]
    }
   ],
   "source": [
    "queue = Queue()\n",
    "array = [1, 2, 3, 4, 5]\n",
    "\n",
    "for a in array:\n",
    "    queue.enqueue(a)\n",
    "\n",
    "for _ in range(len(array)):\n",
    "    print(queue.dequeue())"
   ]
  },
  {
   "cell_type": "markdown",
   "id": "967036ec",
   "metadata": {},
   "source": [
    "## Queue Removals\n",
    "\n",
    "You're given a list of n integers arr, which represent elements in a queue (in order from front to back). You're also given an integer x, and must perform x iterations of the following 3-step process:\n",
    "\n",
    "* Pop x elements from the front of queue (or, if it contains fewer than x elements, pop all of them)\n",
    "* Of the elements that were popped, find the one with the largest value (if there are multiple such elements, take the one which had been popped the earliest), and remove it\n",
    "* For each one of the remaining elements that were popped (in the order they had been popped), decrement its value by 1 if it's positive (otherwise, if its value is 0, then it's left unchanged), and then add it back to the queue\n",
    "\n",
    "Compute a list of x integers output, the ith of which is the 1-based index in the original array of the element which had been removed in step 2 during the ith iteration."
   ]
  },
  {
   "cell_type": "code",
   "execution_count": 247,
   "id": "293e6999",
   "metadata": {},
   "outputs": [],
   "source": [
    "A1 = [1, 2, 2, 3, 4, 5]\n",
    "X1 = 5\n",
    "\n",
    "A2 = [2, 4, 2, 4, 3, 1, 2, 2, 3, 4, 3, 4, 4]\n",
    "X2 = 4"
   ]
  },
  {
   "cell_type": "code",
   "execution_count": 248,
   "id": "3feb37d6",
   "metadata": {},
   "outputs": [],
   "source": [
    "from collections import deque"
   ]
  },
  {
   "cell_type": "code",
   "execution_count": 249,
   "id": "9135d2cd",
   "metadata": {},
   "outputs": [],
   "source": [
    "def findPositions(arr, x):\n",
    "    q = deque()\n",
    "    index_output = []\n",
    "    \n",
    "    for e in enumerate(arr):\n",
    "        q.append(e)\n",
    "    \n",
    "    for _ in range(x):\n",
    "        max_element = float('-inf')\n",
    "        popped_elements = []\n",
    "        cnt = 0\n",
    "        \n",
    "        while cnt < x and q:\n",
    "            element = q.popleft()\n",
    "            if max_element < element[1]:\n",
    "                max_element = element[1]\n",
    "                max_index = element[0]\n",
    "            popped_elements.append(element)\n",
    "            cnt += 1\n",
    "            \n",
    "        for e in popped_elements:\n",
    "            if e[0] != max_index:\n",
    "                q.append((e[0], max(0, e[1]-1)))\n",
    "        \n",
    "        index_output.append(max_index + 1)\n",
    "    \n",
    "    return index_output"
   ]
  },
  {
   "cell_type": "code",
   "execution_count": 250,
   "id": "bdfab2a8",
   "metadata": {},
   "outputs": [
    {
     "data": {
      "text/plain": [
       "[2, 5, 10, 13]"
      ]
     },
     "execution_count": 250,
     "metadata": {},
     "output_type": "execute_result"
    }
   ],
   "source": [
    "findPositions(A2, X2)"
   ]
  },
  {
   "cell_type": "markdown",
   "id": "3019085a",
   "metadata": {},
   "source": [
    "# Trees"
   ]
  },
  {
   "cell_type": "code",
   "execution_count": 262,
   "id": "bcfaf5ae",
   "metadata": {},
   "outputs": [],
   "source": [
    "class Node:\n",
    "    def __init__(self, value):\n",
    "        self.value = value\n",
    "        self.left = None\n",
    "        self.right = None\n",
    "\n",
    "    def insert(self, new_value):\n",
    "        if new_value <= self.value:\n",
    "            if self.left:\n",
    "                self.left.insert(new_value)\n",
    "            else:\n",
    "                self.left = Node(new_value)\n",
    "        else:\n",
    "            if self.right:\n",
    "                self.right.insert(new_value)\n",
    "            else:\n",
    "                self.right = Node(new_value)\n",
    "\n",
    "    def print_inorder(self):\n",
    "        if self.left:\n",
    "            self.left.print_inorder()\n",
    "        print(self.value)\n",
    "        if self.right:\n",
    "            self.right.print_inorder()\n",
    "\n",
    "    def contains(self, value_to_find): #Find method\n",
    "        if value_to_find == self.value:\n",
    "            return True\n",
    "        elif value_to_find < self.value:\n",
    "            if self.left:\n",
    "                return self.left.contains(value_to_find)\n",
    "            return False\n",
    "        else:\n",
    "            if self.right:\n",
    "                return self.right.contains(value_to_find)\n",
    "            return False"
   ]
  },
  {
   "cell_type": "code",
   "execution_count": 266,
   "id": "439bd63e",
   "metadata": {},
   "outputs": [],
   "source": [
    "class BinarySearchTree:\n",
    "    def __init__(self):\n",
    "        self.root = None\n",
    "\n",
    "    def insert(self, value):\n",
    "        if self.root:\n",
    "            self.root.insert(value)\n",
    "        else:\n",
    "            self.root = Node(value)\n",
    "\n",
    "    def print_inorder(self):\n",
    "        if self.root:\n",
    "            self.root.print_inorder()\n",
    "\n",
    "    def contains(self, value):\n",
    "        if self.root:\n",
    "            return self.root.contains(value)\n",
    "        return False"
   ]
  },
  {
   "cell_type": "code",
   "execution_count": 268,
   "id": "2d1c8922",
   "metadata": {},
   "outputs": [
    {
     "name": "stdout",
     "output_type": "stream",
     "text": [
      "1\n",
      "1\n",
      "2\n",
      "2\n",
      "3\n",
      "4\n",
      "4\n",
      "5\n",
      "6\n",
      "6\n",
      "7\n"
     ]
    }
   ],
   "source": [
    "array = [1, 6, 7, 3, 5, 1, 4, 6, 2, 4, 2]\n",
    "\n",
    "tree = BinarySearchTree()\n",
    "\n",
    "for a in array:\n",
    "    tree.insert(a)\n",
    "    \n",
    "tree.print_inorder()"
   ]
  },
  {
   "cell_type": "markdown",
   "id": "8a0478a2",
   "metadata": {},
   "source": [
    "## Trie"
   ]
  },
  {
   "cell_type": "code",
   "execution_count": 270,
   "id": "31491839",
   "metadata": {},
   "outputs": [],
   "source": [
    "class Node:\n",
    "    def __init__(self, letter):\n",
    "        self.letter = letter\n",
    "        self.children = {}\n",
    "        self.is_end_of_word = False"
   ]
  },
  {
   "cell_type": "code",
   "execution_count": 271,
   "id": "1ea3e165",
   "metadata": {},
   "outputs": [],
   "source": [
    "class Trie:\n",
    "    def __init__(self):\n",
    "        self.root = Node('*')\n",
    "        \n",
    "    def add_word(self, word):\n",
    "        curr_node = self.root\n",
    "        for letter in word:\n",
    "            if letter not in curr_node.children:\n",
    "                curr_node.children[letter] = Node(letter)\n",
    "            curr_node = curr_node.children[letter]\n",
    "        curr_node.is_end_of_word = True\n",
    "    \n",
    "    def does_word_exist(self, word):\n",
    "        if word == \"\":\n",
    "            return True\n",
    "        \n",
    "        curr_node = self.root\n",
    "        for letter in word:\n",
    "            if letter not in curr_node.children:\n",
    "                return False\n",
    "            curr_node = curr_node.children[letter]\n",
    "\n",
    "        return curr_node.is_end_of_word"
   ]
  },
  {
   "cell_type": "code",
   "execution_count": 272,
   "id": "1096c353",
   "metadata": {},
   "outputs": [
    {
     "name": "stdout",
     "output_type": "stream",
     "text": [
      "True\n",
      "True\n",
      "False\n",
      "True\n",
      "True\n",
      "True\n",
      "False\n"
     ]
    }
   ],
   "source": [
    "trie = Trie()\n",
    "\n",
    "words = ['wait', 'waiter', 'shop', 'shopper']\n",
    "\n",
    "for word in words:\n",
    "    trie.add_word(word)\n",
    "    \n",
    "print(trie.does_word_exist('wait'))\n",
    "print(trie.does_word_exist('waiter'))\n",
    "print(trie.does_word_exist('waite'))\n",
    "print(trie.does_word_exist('shop'))\n",
    "print(trie.does_word_exist(''))\n",
    "print(trie.does_word_exist('shopper'))\n",
    "print(trie.does_word_exist('shopp'))"
   ]
  },
  {
   "cell_type": "markdown",
   "id": "cfd40973",
   "metadata": {},
   "source": [
    "## Breadth First Search"
   ]
  },
  {
   "cell_type": "code",
   "execution_count": 298,
   "id": "75ed6bf4",
   "metadata": {},
   "outputs": [],
   "source": [
    "from collections import deque"
   ]
  },
  {
   "cell_type": "code",
   "execution_count": 299,
   "id": "db0794ea",
   "metadata": {},
   "outputs": [],
   "source": [
    "def BFS(root):\n",
    "    nodes = []\n",
    "    \n",
    "    q = deque()\n",
    "    q.append(root)\n",
    "    \n",
    "    while q:\n",
    "        q_len = len(q)\n",
    "        level = []\n",
    "        \n",
    "        for i in range(q_len):\n",
    "            node = q.popleft()\n",
    "            if node:\n",
    "                level.append(node.val)\n",
    "                q.append(node.left)\n",
    "                q.append(node.right)\n",
    "        if level:\n",
    "            nodes.append(level)\n",
    "    \n",
    "    return nodes"
   ]
  },
  {
   "cell_type": "markdown",
   "id": "74a611c7",
   "metadata": {},
   "source": [
    "## Number of Visible Nodes\n",
    "\n",
    "There is a binary tree with N nodes. You are viewing the tree from its left side and can see only the leftmost nodes at each level. Return the number of visible nodes.\n",
    "\n",
    "Note: You can see only the leftmost nodes, but that doesn't mean they have to be left nodes. The leftmost node at a level could be a right node."
   ]
  },
  {
   "cell_type": "code",
   "execution_count": 300,
   "id": "46dab5fa",
   "metadata": {},
   "outputs": [],
   "source": [
    "class TreeNode: \n",
    "    def __init__(self, key):\n",
    "        self.left = None\n",
    "        self.right = None\n",
    "        self.val = key"
   ]
  },
  {
   "cell_type": "code",
   "execution_count": 301,
   "id": "c5ad556d",
   "metadata": {},
   "outputs": [],
   "source": [
    "from collections import deque"
   ]
  },
  {
   "cell_type": "code",
   "execution_count": 315,
   "id": "66c62f4d",
   "metadata": {},
   "outputs": [],
   "source": [
    "def visible_nodes(root):\n",
    "    nodes = []\n",
    "    \n",
    "    q = deque()\n",
    "    q.append(root)\n",
    "    \n",
    "    while q:\n",
    "        q_len = len(q)\n",
    "        level_nodes = []\n",
    "        \n",
    "        for i in range(q_len):\n",
    "            node = q.popleft()\n",
    "            if node:\n",
    "                level_nodes.append(node.val)\n",
    "                q.append(node.left)\n",
    "                q.append(node.right)\n",
    "\n",
    "        if level_nodes:\n",
    "            nodes.append(level_nodes[0])\n",
    "    \n",
    "    return len(nodes)"
   ]
  },
  {
   "cell_type": "code",
   "execution_count": 316,
   "id": "3177ddb8",
   "metadata": {},
   "outputs": [
    {
     "data": {
      "text/plain": [
       "4"
      ]
     },
     "execution_count": 316,
     "metadata": {},
     "output_type": "execute_result"
    }
   ],
   "source": [
    "root_1 = TreeNode(8)\n",
    "root_1.left = TreeNode(3)\n",
    "root_1.right = TreeNode(10)\n",
    "root_1.left.left = TreeNode(1)\n",
    "root_1.left.right = TreeNode(6)\n",
    "root_1.left.right.left = TreeNode(4)\n",
    "root_1.left.right.right = TreeNode(7)\n",
    "root_1.right.right = TreeNode(14)\n",
    "root_1.right.right.left = TreeNode(13)\n",
    "\n",
    "visible_nodes(root_1)"
   ]
  },
  {
   "cell_type": "code",
   "execution_count": 317,
   "id": "98a8acad",
   "metadata": {},
   "outputs": [
    {
     "data": {
      "text/plain": [
       "5"
      ]
     },
     "execution_count": 317,
     "metadata": {},
     "output_type": "execute_result"
    }
   ],
   "source": [
    "root_2 = TreeNode(10)\n",
    "root_2.left = TreeNode(8)\n",
    "root_2.right = TreeNode(15)\n",
    "root_2.left.left = TreeNode(4)\n",
    "root_2.left.left.right = TreeNode(5)\n",
    "root_2.left.left.right.right = TreeNode(6)\n",
    "root_2.right.left =TreeNode(14)\n",
    "root_2.right.right = TreeNode(16)\n",
    "\n",
    "visible_nodes(root_2)"
   ]
  },
  {
   "cell_type": "markdown",
   "id": "bded340e",
   "metadata": {},
   "source": [
    "## Nodes in a Subtree\n",
    "\n",
    "You are given a tree that contains N nodes, each containing an integer u which corresponds to a lowercase character c in the string s using 1-based indexing.\n",
    "\n",
    "You are required to answer Q queries of type [u, c], where u is an integer and c is a lowercase letter. The query result is the number of nodes in the subtree of node u containing c."
   ]
  },
  {
   "cell_type": "code",
   "execution_count": 320,
   "id": "2dd19321",
   "metadata": {},
   "outputs": [],
   "source": [
    "from collections import deque"
   ]
  },
  {
   "cell_type": "code",
   "execution_count": 321,
   "id": "46571cf9",
   "metadata": {},
   "outputs": [],
   "source": [
    "class Node: \n",
    "    def __init__(self, data): \n",
    "        self.val = data \n",
    "        self.children = []"
   ]
  },
  {
   "cell_type": "code",
   "execution_count": 412,
   "id": "8e13d842",
   "metadata": {},
   "outputs": [],
   "source": [
    "def count_of_nodes(root, queries, s):\n",
    "    output = []\n",
    "    \n",
    "    for query in queries:\n",
    "        \n",
    "        q = deque()\n",
    "        q.append(root)\n",
    "        \n",
    "        value_count = 0\n",
    "        while q:\n",
    "            node = q.popleft()\n",
    "            if node:\n",
    "                for child in node.children:\n",
    "                    q.append(child)\n",
    "                if query[0] == node.val and query[1] == s[node.val-1]:\n",
    "                    found_node = node\n",
    "                    value_count += 1\n",
    "                    break\n",
    "        \n",
    "        q.clear()\n",
    "        \n",
    "        for child in found_node.children:\n",
    "            q.append(child)\n",
    "        \n",
    "        while q:\n",
    "            node = q.popleft()\n",
    "            if node:\n",
    "                for child in node.children:\n",
    "                    q.append(child)\n",
    "                if query[1] == s[node.val-1]:\n",
    "                    value_count += 1\n",
    "\n",
    "        output.append(value_count)\n",
    "\n",
    "    return output"
   ]
  },
  {
   "cell_type": "code",
   "execution_count": 413,
   "id": "9e1cae64",
   "metadata": {},
   "outputs": [
    {
     "data": {
      "text/plain": [
       "[2]"
      ]
     },
     "execution_count": 413,
     "metadata": {},
     "output_type": "execute_result"
    }
   ],
   "source": [
    "s_1 = \"aba\"\n",
    "root_1 = Node(1) \n",
    "root_1.children.append(Node(2)) \n",
    "root_1.children.append(Node(3)) \n",
    "queries_1 = [(1, 'a')]\n",
    "\n",
    "count_of_nodes(root_1, queries_1, s_1)"
   ]
  },
  {
   "cell_type": "code",
   "execution_count": 414,
   "id": "0b4bd707",
   "metadata": {},
   "outputs": [
    {
     "data": {
      "text/plain": [
       "[4, 1, 2]"
      ]
     },
     "execution_count": 414,
     "metadata": {},
     "output_type": "execute_result"
    }
   ],
   "source": [
    "s_2 = \"abaacab\"\n",
    "root_2 = Node(1)\n",
    "root_2.children.append(Node(2))\n",
    "root_2.children.append(Node(3))\n",
    "root_2.children.append(Node(7))\n",
    "root_2.children[0].children.append(Node(4))\n",
    "root_2.children[0].children.append(Node(5))\n",
    "root_2.children[1].children.append(Node(6))\n",
    "queries_2 = [[1, 'a'],[2, 'b'],[3, 'a']]\n",
    "\n",
    "count_of_nodes(root_2, queries_2, s_2)"
   ]
  },
  {
   "cell_type": "markdown",
   "id": "eeb35a51",
   "metadata": {},
   "source": [
    "# Heaps"
   ]
  },
  {
   "cell_type": "code",
   "execution_count": 472,
   "id": "1e13e023",
   "metadata": {},
   "outputs": [],
   "source": [
    "class MinHeap:\n",
    "    def __init__(self, max_size):\n",
    "        self.max_size = max_size\n",
    "        self.size = 0\n",
    "        self.Heap = [0] * (max_size + 1)\n",
    "        self.Heap[0] = float('-inf')\n",
    "        self.FRONT = 1\n",
    "        \n",
    "    def parent(self, pos):\n",
    "        return pos//2\n",
    "    \n",
    "    def left_child(self, pos):\n",
    "        return 2 * pos\n",
    "    \n",
    "    def right_child(self, pos):\n",
    "        return ((2 * pos) + 1)\n",
    "    \n",
    "    def is_leaf(self, pos):\n",
    "        return (pos*2 > self.size)\n",
    "    \n",
    "    def swap(self, first_pos, second_pos):\n",
    "        self.Heap[first_pos], self.Heap[second_pos] = self.Heap[second_pos], self.Heap[first_pos]\n",
    "        \n",
    "    def min_heapify(self, pos):\n",
    "        if not is_leaf(pos):\n",
    "            if (self.Heap[pos] > self.Heap[self.left_child(pos)]) and \\\n",
    "            (self.Heap[pos] > self.Heap[self.right_child(pos)]):\n",
    "                \n",
    "                if self.Heap[self.left_child(pos)] < self.Heap[self.right_child(pos)]:\n",
    "                    self.swap(pos, self.left_child(pos))\n",
    "                    self.min_heapify(self.left_child(pos))\n",
    "                else:\n",
    "                    self.swap(pos, self.right_child(pos))\n",
    "                    self.min_heapify(self.right_child(pos))\n",
    "                    \n",
    "    def insert(self, element):\n",
    "        if self.size >= self.max_size:\n",
    "            return\n",
    "        \n",
    "        self.size += 1\n",
    "        self.Heap[self.size] = element\n",
    "        \n",
    "        current_pos = self.size\n",
    "        \n",
    "        while self.Heap[current_pos] < self.Heap[self.parent(current_pos)]:\n",
    "            self.swap(current_pos, self.parent(current_pos))\n",
    "            current_pos = self.parent(current_pos)\n",
    "            \n",
    "    def print(self):\n",
    "        for i in range(1, (self.size//2)+1):\n",
    "            print(\" Parent: \" + str(self.Heap[i]) + \n",
    "                  \" Left Child: \" + str(self.Heap[2 * i]) + \n",
    "                  \" Right Child: \" + str(self.Heap[2 * i + 1]))\n",
    "            \n",
    "    def min_heap(self):\n",
    "        for pos in range(self.size//2, 0, -1):\n",
    "            self.min_heapify(pos)\n",
    "            \n",
    "    def remove(self):\n",
    "        min_value = self.Heap[self.FRONT]\n",
    "        self.Heap[self.FRONT] = self.Heap[self.size]\n",
    "        self.size -= 1\n",
    "        self.min_heapify(self.FRONT)\n",
    "        return min_value"
   ]
  },
  {
   "cell_type": "code",
   "execution_count": 476,
   "id": "679a2eae",
   "metadata": {},
   "outputs": [
    {
     "name": "stdout",
     "output_type": "stream",
     "text": [
      "The minHeap is \n",
      " Parent: 3 Left Child: 5 Right Child: 6\n",
      " Parent: 5 Left Child: 9 Right Child: 84\n",
      " Parent: 6 Left Child: 19 Right Child: 17\n",
      " Parent: 9 Left Child: 22 Right Child: 10\n",
      "The Min val is 3\n"
     ]
    }
   ],
   "source": [
    "print('The minHeap is ')\n",
    "    \n",
    "minHeap = MinHeap(15)\n",
    "    \n",
    "minHeap.insert(5)\n",
    "minHeap.insert(3)\n",
    "minHeap.insert(17)\n",
    "minHeap.insert(10)\n",
    "minHeap.insert(84)\n",
    "minHeap.insert(19)\n",
    "minHeap.insert(6)\n",
    "minHeap.insert(22)\n",
    "minHeap.insert(9)\n",
    "\n",
    "minHeap.min_heap()\n",
    "\n",
    "minHeap.print()\n",
    "    \n",
    "print(\"The Min val is \" + str(minHeap.remove()))"
   ]
  },
  {
   "cell_type": "markdown",
   "id": "d0dab001",
   "metadata": {},
   "source": [
    "## Largest Triple Products\n",
    "\n",
    "You're given a list of n integers arr[0..(n-1)]. You must compute a list output[0..(n-1)] such that, for each index i (between 0 and n-1, inclusive), output[i] is equal to the product of the three largest elements out of arr[0..i] (or equal to -1 if i < 2, as arr[0..i] then includes fewer than three elements).\n",
    "\n",
    "Note that the three largest elements used to form any product may have the same values as one another, but they must be at different indices in arr."
   ]
  },
  {
   "cell_type": "code",
   "execution_count": 593,
   "id": "ebd9581b",
   "metadata": {},
   "outputs": [],
   "source": [
    "import heapq\n",
    "import numpy as np"
   ]
  },
  {
   "cell_type": "code",
   "execution_count": 589,
   "id": "c211115c",
   "metadata": {},
   "outputs": [],
   "source": [
    "A1 = [1, 2, 3, 4, 5]\n",
    "A2 = [2, 1, 2, 1, 2]\n",
    "A3 = [2, 4, 7, 1, 5, 3]"
   ]
  },
  {
   "cell_type": "code",
   "execution_count": 572,
   "id": "fcf278e0",
   "metadata": {},
   "outputs": [],
   "source": [
    "def findMaxProduct(arr):\n",
    "    output = []\n",
    "    h = []\n",
    "    \n",
    "    for a in arr:\n",
    "        heapq.heappush(h, a)\n",
    "        if len(h) < 3:\n",
    "            output.append(-1)\n",
    "        else:\n",
    "            if len(h) > 3:\n",
    "                heapq.heappop(h)\n",
    "            output.append(h[0]*h[1]*h[2])\n",
    "    \n",
    "    return output"
   ]
  },
  {
   "cell_type": "code",
   "execution_count": 573,
   "id": "63dd8354",
   "metadata": {},
   "outputs": [
    {
     "data": {
      "text/plain": [
       "[-1, -1, 4, 4, 8]"
      ]
     },
     "execution_count": 573,
     "metadata": {},
     "output_type": "execute_result"
    }
   ],
   "source": [
    "findMaxProduct(A2)"
   ]
  },
  {
   "cell_type": "code",
   "execution_count": 594,
   "id": "c8a99c0d",
   "metadata": {},
   "outputs": [],
   "source": [
    "def findMaxProduct(arr):\n",
    "    output = []\n",
    "    h = []\n",
    "    \n",
    "    for a in arr:\n",
    "        heapq.heappush(h, a)\n",
    "        if len(h) < 3:\n",
    "            output.append(-1)\n",
    "        else:\n",
    "            output.append(np.prod(heapq.nlargest(3, h)))\n",
    "\n",
    "    return output"
   ]
  },
  {
   "cell_type": "code",
   "execution_count": 595,
   "id": "f075f283",
   "metadata": {},
   "outputs": [
    {
     "data": {
      "text/plain": [
       "[-1, -1, 56, 56, 140, 140]"
      ]
     },
     "execution_count": 595,
     "metadata": {},
     "output_type": "execute_result"
    }
   ],
   "source": [
    "findMaxProduct(A3)"
   ]
  },
  {
   "cell_type": "markdown",
   "id": "a5893b62",
   "metadata": {},
   "source": [
    "## Magical Candy Bags\n",
    "\n",
    "You have N bags of candy. The ith bag contains arr[i] pieces of candy, and each of the bags is magical!\n",
    "\n",
    "It takes you 1 minute to eat all of the pieces of candy in a bag (irrespective of how many pieces of candy are inside), and as soon as you finish, the bag mysteriously refills. If there were x pieces of candy in the bag at the beginning of the minute, then after you've finished you'll find that floor(x/2) pieces are now inside.\n",
    "\n",
    "You have k minutes to eat as much candy as possible. How many pieces of candy can you eat?"
   ]
  },
  {
   "cell_type": "code",
   "execution_count": 597,
   "id": "3f759f1e",
   "metadata": {},
   "outputs": [],
   "source": [
    "import heapq"
   ]
  },
  {
   "cell_type": "code",
   "execution_count": 636,
   "id": "ee5532a6",
   "metadata": {},
   "outputs": [],
   "source": [
    "k1 = 3\n",
    "A1 = [2, 1, 7, 4, 2]\n",
    "\n",
    "k2 = 3\n",
    "A2 = [19, 78, 76, 72, 48, 8, 24, 74, 29]"
   ]
  },
  {
   "cell_type": "code",
   "execution_count": 657,
   "id": "de5bda70",
   "metadata": {},
   "outputs": [],
   "source": [
    "def maxCandies(arr, k):\n",
    "    heapq._heapify_max(arr)\n",
    "    \n",
    "    total_candies = 0\n",
    "    for _ in range(3):\n",
    "        largest_num = heapq.nlargest(1, arr)[0]\n",
    "        total_candies += largest_num\n",
    "        heapq._heapreplace_max(arr, largest_num//2)\n",
    "    \n",
    "    return total_candies"
   ]
  },
  {
   "cell_type": "code",
   "execution_count": 658,
   "id": "892531cd",
   "metadata": {},
   "outputs": [
    {
     "data": {
      "text/plain": [
       "228"
      ]
     },
     "execution_count": 658,
     "metadata": {},
     "output_type": "execute_result"
    }
   ],
   "source": [
    "maxCandies(A2, k2)"
   ]
  },
  {
   "cell_type": "markdown",
   "id": "e5066439",
   "metadata": {},
   "source": [
    "## Median Stream\n",
    "\n",
    "You're given a list of n integers arr[0..(n-1)]. You must compute a list output[0..(n-1)] such that, for each index i (between 0 and n-1, inclusive), output[i] is equal to the median of the elements arr[0..i] (rounded down to the nearest integer).\n",
    "\n",
    "The median of a list of integers is defined as follows. If the integers were to be sorted, then:\n",
    "\n",
    "* If there are an odd number of integers, then the median is equal to the middle integer in the sorted order.\n",
    "* Otherwise, if there are an even number of integers, then the median is equal to the average of the two middle-most integers in the sorted order."
   ]
  },
  {
   "cell_type": "code",
   "execution_count": 660,
   "id": "c03d1269",
   "metadata": {},
   "outputs": [],
   "source": [
    "import heapq"
   ]
  },
  {
   "cell_type": "code",
   "execution_count": 670,
   "id": "da4a9076",
   "metadata": {},
   "outputs": [],
   "source": [
    "A1 = [5, 15, 1, 3]\n",
    "A2 = [1, 2]\n",
    "A3 = [2, 4, 7, 1, 5, 3]"
   ]
  },
  {
   "cell_type": "code",
   "execution_count": 680,
   "id": "5b31d52d",
   "metadata": {},
   "outputs": [],
   "source": [
    "def findMedian(arr):\n",
    "    \n",
    "    output = []\n",
    "    max_heap = []\n",
    "    min_heap = []\n",
    "\n",
    "    for num in arr:\n",
    "        if len(max_heap) == len(min_heap):\n",
    "            heapq.heappush(min_heap, -heapq.heappushpop(max_heap, -num))\n",
    "        else:\n",
    "            heapq.heappush(max_heap, -heapq.heappushpop(min_heap, num))\n",
    "\n",
    "        print('max:', max_heap)\n",
    "        print('min:', min_heap)\n",
    "        \n",
    "        if len(max_heap) == len(min_heap):\n",
    "            output.append((min_heap[0] - max_heap[0]) // 2)\n",
    "        else:\n",
    "            output.append(min_heap[0])\n",
    "    \n",
    "    return output"
   ]
  },
  {
   "cell_type": "code",
   "execution_count": 684,
   "id": "5f8a9196",
   "metadata": {},
   "outputs": [
    {
     "name": "stdout",
     "output_type": "stream",
     "text": [
      "max: []\n",
      "min: [5]\n",
      "max: [-5]\n",
      "min: [15]\n",
      "max: [-1]\n",
      "min: [5, 15]\n",
      "max: [-3, -1]\n",
      "min: [5, 15]\n"
     ]
    },
    {
     "data": {
      "text/plain": [
       "[5, 10, 5, 4]"
      ]
     },
     "execution_count": 684,
     "metadata": {},
     "output_type": "execute_result"
    }
   ],
   "source": [
    "findMedian(A1)"
   ]
  },
  {
   "cell_type": "markdown",
   "id": "35ab067e",
   "metadata": {},
   "source": [
    "# Graphs"
   ]
  },
  {
   "cell_type": "code",
   "execution_count": 692,
   "id": "c2ebbadd",
   "metadata": {},
   "outputs": [],
   "source": [
    "class Node:\n",
    "    def __init__(self, value, neighbors=None):\n",
    "        self.value = value\n",
    "        if neighbors is None:\n",
    "            self.neighbors = []\n",
    "        else:\n",
    "            self.neighbors = neighbors\n",
    "            \n",
    "    def has_neighbors(self):\n",
    "        if len(self.neighbors) == 0:\n",
    "            return False\n",
    "        return True\n",
    "    \n",
    "    def number_of_neighbors(self):\n",
    "        return len(self.neighbors)\n",
    "    \n",
    "    def add_neighbor(self, neighbor):\n",
    "        self.neighbors.append(neighbor)"
   ]
  },
  {
   "cell_type": "code",
   "execution_count": 693,
   "id": "cc9a1a6d",
   "metadata": {},
   "outputs": [],
   "source": [
    "class Graph:\n",
    "    def __init__(self, nodes=None):\n",
    "        if nodes is None:\n",
    "            self.nodes = []\n",
    "        else:\n",
    "            self.nodes = nodes\n",
    "            \n",
    "    def add_node(self, value, neighbors=None):\n",
    "        self.nodes.append(Node(value, neighbors))\n",
    "        \n",
    "    def find_node(self, value):\n",
    "        for node in self.nodes:\n",
    "            if node.value == value:\n",
    "                return node\n",
    "        return None\n",
    "    \n",
    "    def add_edge(self, value1, value2):\n",
    "        node1 = self.find_node(value1)\n",
    "        node2 = self.find_node(value2)\n",
    "        \n",
    "        if node1 is not None and node2 is not None:\n",
    "            node1.add_neighbor(node2)\n",
    "            node2.add_neighbor(node1)\n",
    "        else:\n",
    "            print('Error: One or more nodes were not found.')\n",
    "            \n",
    "    def number_of_nodes(self):\n",
    "        return f\"The graph has {len(self.nodes)} nodes.\"\n",
    "    \n",
    "    def are_connected(self, node_val1, node_val2):\n",
    "        node1 = self.find_node(node_val1)\n",
    "        node2 = self.find_node(node_val2)\n",
    "        \n",
    "        for neighbor in node1.neighbors:\n",
    "            if neighbor[0].value == node2.value:\n",
    "                return True\n",
    "\n",
    "        return False"
   ]
  },
  {
   "cell_type": "markdown",
   "id": "57c672c1",
   "metadata": {},
   "source": [
    "## Adjacency List Implementation"
   ]
  },
  {
   "cell_type": "code",
   "execution_count": 703,
   "id": "f2dba947",
   "metadata": {},
   "outputs": [],
   "source": [
    "class Graph:\n",
    "    def __init__(self, edges):\n",
    "        self.edges = edges\n",
    "        self.graph_dict = {}\n",
    "        for start, end in self.edges:\n",
    "            if start in self.graph_dict:\n",
    "                self.graph_dict[start].append(end)\n",
    "            else:\n",
    "                self.graph_dict[start] = [end]\n",
    "        print('Graph:', self.graph_dict)\n",
    "        \n",
    "    def get_path(self, start, end, path=[]):\n",
    "        path = path + [start]\n",
    "        \n",
    "        if start == end:\n",
    "            return [path]\n",
    "        \n",
    "        if start not in self.graph_dict:\n",
    "            return []\n",
    "        \n",
    "        paths = []\n",
    "        for node in self.graph_dict[start]:\n",
    "            if node not in path:\n",
    "                new_paths = self.get_path(node, end, path)\n",
    "                for p in new_paths:\n",
    "                    paths.append(p)\n",
    "                    \n",
    "        return paths\n",
    "    \n",
    "    def get_shortest_path(self, start, end, path=[]):\n",
    "        path = path + [start]\n",
    "        \n",
    "        if start == end:\n",
    "            return [path]\n",
    "        \n",
    "        if start not in self.graph_dict:\n",
    "            return []\n",
    "        \n",
    "        shortest_path = None\n",
    "        for node in self.graph_dict[start]:\n",
    "            if node not in path:\n",
    "                sp = self.get_path(node, end, path)\n",
    "                if sp:\n",
    "                    if shortest_path is None or len(sp) < len(shortest_path):\n",
    "                        shortest_path = sp\n",
    "\n",
    "        return shortest_path"
   ]
  },
  {
   "cell_type": "code",
   "execution_count": 706,
   "id": "84f2a6c6",
   "metadata": {},
   "outputs": [
    {
     "name": "stdout",
     "output_type": "stream",
     "text": [
      "Graph: {'Mumbai': ['Paris', 'Dubai'], 'Paris': ['Dubai', 'New York'], 'Dubai': ['New York'], 'New York': ['Toronto']}\n",
      "[['Mumbai', 'Paris', 'Dubai', 'New York'], ['Mumbai', 'Paris', 'New York'], ['Mumbai', 'Dubai', 'New York']]\n",
      "[['Mumbai', 'Dubai', 'New York']]\n"
     ]
    }
   ],
   "source": [
    "routes = [('Mumbai', 'Paris'), \n",
    "          ('Mumbai', 'Dubai'), \n",
    "          ('Paris', 'Dubai'), \n",
    "          ('Paris', 'New York'), \n",
    "          ('Dubai', 'New York'), \n",
    "          ('New York', 'Toronto')]\n",
    "graph = Graph(routes)\n",
    "\n",
    "print(graph.get_path('Mumbai', 'New York'))\n",
    "\n",
    "print(graph.get_shortest_path('Mumbai', 'New York'))"
   ]
  },
  {
   "cell_type": "code",
   "execution_count": 707,
   "id": "fafc9587",
   "metadata": {},
   "outputs": [],
   "source": [
    "graph = {'Mumbai': ['Paris', 'Dubai'], \n",
    "         'Paris': ['Dubai', 'New York'], \n",
    "         'Dubai': ['New York'], \n",
    "         'New York': ['Toronto']}"
   ]
  },
  {
   "cell_type": "code",
   "execution_count": 708,
   "id": "f7b20050",
   "metadata": {},
   "outputs": [],
   "source": [
    "def find_path(graph, start, end, path=[]):\n",
    "    path = path + [start]\n",
    "    if start == end:\n",
    "        return path\n",
    "    for node in graph[start]:\n",
    "        if node not in path:\n",
    "            newpath = find_path(graph, node, end, path)\n",
    "            if newpath:\n",
    "                return newpath"
   ]
  },
  {
   "cell_type": "code",
   "execution_count": 709,
   "id": "b3e563a1",
   "metadata": {},
   "outputs": [
    {
     "name": "stdout",
     "output_type": "stream",
     "text": [
      "['Mumbai', 'Paris', 'Dubai', 'New York']\n"
     ]
    }
   ],
   "source": [
    "print(find_path(graph, 'Mumbai', 'New York'))"
   ]
  },
  {
   "cell_type": "code",
   "execution_count": 710,
   "id": "1b750539",
   "metadata": {},
   "outputs": [],
   "source": [
    "def find_all_paths(graph, start, end, path =[]):\n",
    "    path = path + [start]\n",
    "    \n",
    "    if start == end:\n",
    "        return [path]\n",
    "    \n",
    "    paths = []\n",
    "    for node in graph[start]:\n",
    "        if node not in path:\n",
    "            newpaths = find_all_paths(graph, node, end, path)\n",
    "        for newpath in newpaths:\n",
    "            paths.append(newpath)\n",
    "    \n",
    "    return paths"
   ]
  },
  {
   "cell_type": "code",
   "execution_count": 711,
   "id": "cab0744f",
   "metadata": {},
   "outputs": [
    {
     "name": "stdout",
     "output_type": "stream",
     "text": [
      "[['Mumbai', 'Paris', 'Dubai', 'New York'], ['Mumbai', 'Paris', 'New York'], ['Mumbai', 'Dubai', 'New York']]\n"
     ]
    }
   ],
   "source": [
    "print(find_all_paths(graph, 'Mumbai', 'New York'))"
   ]
  },
  {
   "cell_type": "code",
   "execution_count": 712,
   "id": "102271b3",
   "metadata": {},
   "outputs": [],
   "source": [
    "def find_shortest_path(graph, start, end, path =[]):\n",
    "    path = path + [start]\n",
    "    \n",
    "    if start == end:\n",
    "        return path\n",
    "    \n",
    "    shortest = None\n",
    "    for node in graph[start]:\n",
    "        if node not in path:\n",
    "            newpath = find_shortest_path(graph, node, end, path)\n",
    "            if newpath:\n",
    "                if not shortest or len(newpath) < len(shortest):\n",
    "                    shortest = newpath\n",
    "    return shortest"
   ]
  },
  {
   "cell_type": "code",
   "execution_count": 713,
   "id": "76594cce",
   "metadata": {},
   "outputs": [
    {
     "name": "stdout",
     "output_type": "stream",
     "text": [
      "['Mumbai', 'Paris', 'New York']\n"
     ]
    }
   ],
   "source": [
    "print(find_shortest_path(graph, 'Mumbai', 'New York'))"
   ]
  },
  {
   "cell_type": "markdown",
   "id": "551c085b",
   "metadata": {},
   "source": [
    "## Breadth First Search"
   ]
  },
  {
   "cell_type": "code",
   "execution_count": 753,
   "id": "64bcc2d9",
   "metadata": {},
   "outputs": [],
   "source": [
    "from collections import defaultdict, deque"
   ]
  },
  {
   "cell_type": "code",
   "execution_count": 774,
   "id": "b5a4a161",
   "metadata": {},
   "outputs": [],
   "source": [
    "graph = {'Mumbai': ['Paris', 'Dubai'], \n",
    "         'Paris': ['Dubai', 'New York'], \n",
    "         'Dubai': ['New York'], \n",
    "         'New York': ['Toronto']}"
   ]
  },
  {
   "cell_type": "code",
   "execution_count": 775,
   "id": "4e84afab",
   "metadata": {},
   "outputs": [],
   "source": [
    "def BFS(graph, node):\n",
    "    visited = set()\n",
    "    queue = deque()\n",
    "    \n",
    "    queue.append(node)\n",
    "\n",
    "    while queue:\n",
    "        node = queue.popleft()\n",
    "\n",
    "        if node not in visited:\n",
    "            print(node, end=' ')\n",
    "            visited.add(node)\n",
    "            for neighbor in graph[node]:\n",
    "                if neighbor not in visited:\n",
    "                    queue.append(neighbor)"
   ]
  },
  {
   "cell_type": "code",
   "execution_count": 776,
   "id": "2be6f10e",
   "metadata": {},
   "outputs": [
    {
     "name": "stdout",
     "output_type": "stream",
     "text": [
      "Mumbai Paris Dubai New York Toronto "
     ]
    }
   ],
   "source": [
    "dd_graph = defaultdict(str, graph)\n",
    "\n",
    "BFS(dd_graph, 'Mumbai')"
   ]
  },
  {
   "cell_type": "markdown",
   "id": "8a00721c",
   "metadata": {},
   "source": [
    "## Depth First Search\n",
    "\n",
    "### Recursive (pre-order)"
   ]
  },
  {
   "cell_type": "code",
   "execution_count": 801,
   "id": "50ad4a40",
   "metadata": {},
   "outputs": [],
   "source": [
    "graph = {'Mumbai': ['Paris', 'Dubai'], \n",
    "         'Paris': ['Dubai', 'New York'], \n",
    "         'Dubai': ['New York'], \n",
    "         'New York': ['Toronto']}"
   ]
  },
  {
   "cell_type": "code",
   "execution_count": 802,
   "id": "aff682a8",
   "metadata": {},
   "outputs": [],
   "source": [
    "visited = set()"
   ]
  },
  {
   "cell_type": "code",
   "execution_count": 803,
   "id": "bfc73134",
   "metadata": {},
   "outputs": [],
   "source": [
    "def DFS_pre(graph, node):\n",
    "    \n",
    "    print(node, end=' ')\n",
    "    visited.add(node)\n",
    "\n",
    "    for neighbor in graph[node]:\n",
    "        if neighbor not in visited:\n",
    "            DFS(graph, neighbor)"
   ]
  },
  {
   "cell_type": "code",
   "execution_count": 804,
   "id": "9b337294",
   "metadata": {},
   "outputs": [
    {
     "name": "stdout",
     "output_type": "stream",
     "text": [
      "Mumbai Paris Dubai New York Toronto "
     ]
    }
   ],
   "source": [
    "dd_graph = defaultdict(str, graph)\n",
    "\n",
    "DFS_pre(dd_graph, 'Mumbai')"
   ]
  },
  {
   "cell_type": "markdown",
   "id": "b82421a5",
   "metadata": {},
   "source": [
    "### Recursive (post-order)"
   ]
  },
  {
   "cell_type": "code",
   "execution_count": 806,
   "id": "06d2b483",
   "metadata": {},
   "outputs": [],
   "source": [
    "graph = {'Mumbai': ['Paris', 'Dubai'], \n",
    "         'Paris': ['Dubai', 'New York'], \n",
    "         'Dubai': ['New York'], \n",
    "         'New York': ['Toronto']}"
   ]
  },
  {
   "cell_type": "code",
   "execution_count": 807,
   "id": "8a6c766e",
   "metadata": {},
   "outputs": [],
   "source": [
    "visited = set()"
   ]
  },
  {
   "cell_type": "code",
   "execution_count": 808,
   "id": "ffeca55c",
   "metadata": {},
   "outputs": [],
   "source": [
    "def DFS_post(graph, node):\n",
    "    \n",
    "    visited.add(node)\n",
    "\n",
    "    for neighbor in graph[node]:\n",
    "        if neighbor not in visited:\n",
    "            DFS(graph, neighbor)\n",
    "            \n",
    "    print(node, end=' ')"
   ]
  },
  {
   "cell_type": "code",
   "execution_count": 809,
   "id": "8254befb",
   "metadata": {},
   "outputs": [
    {
     "name": "stdout",
     "output_type": "stream",
     "text": [
      "Paris Dubai New York Toronto Mumbai "
     ]
    }
   ],
   "source": [
    "dd_graph = defaultdict(str, graph)\n",
    "\n",
    "DFS_post(dd_graph, 'Mumbai')"
   ]
  },
  {
   "cell_type": "markdown",
   "id": "d96727b8",
   "metadata": {},
   "source": [
    "### Iterative"
   ]
  },
  {
   "cell_type": "code",
   "execution_count": 797,
   "id": "323c8e0a",
   "metadata": {},
   "outputs": [],
   "source": [
    "graph = {'Mumbai': ['Paris', 'Dubai'], \n",
    "         'Paris': ['Dubai', 'New York'], \n",
    "         'Dubai': ['New York'], \n",
    "         'New York': ['Toronto']}"
   ]
  },
  {
   "cell_type": "code",
   "execution_count": 798,
   "id": "7424f9e5",
   "metadata": {},
   "outputs": [],
   "source": [
    "visited = set()"
   ]
  },
  {
   "cell_type": "code",
   "execution_count": 799,
   "id": "393d40df",
   "metadata": {},
   "outputs": [],
   "source": [
    "def DFS_iter(graph, node):\n",
    "    stack = []\n",
    "    stack.append(node)\n",
    "    \n",
    "    while len(stack) > 0:\n",
    "        node = stack.pop()\n",
    "        if node not in visited:\n",
    "            print(node, end=' ')\n",
    "            visited.add(node)\n",
    "            for neighbor in graph[node]:\n",
    "                if neighbor not in visited:\n",
    "                    stack.append(neighbor)"
   ]
  },
  {
   "cell_type": "code",
   "execution_count": 800,
   "id": "543edda7",
   "metadata": {},
   "outputs": [
    {
     "name": "stdout",
     "output_type": "stream",
     "text": [
      "Mumbai Dubai New York Toronto Paris "
     ]
    }
   ],
   "source": [
    "dd_graph = defaultdict(str, graph)\n",
    "\n",
    "DFS_iter(dd_graph, 'Mumbai')"
   ]
  },
  {
   "cell_type": "markdown",
   "id": "bf95b211",
   "metadata": {},
   "source": [
    "## Minimizing Permutations\n",
    "\n",
    "In this problem, you are given an integer N, and a permutation, P of the integers from 1 to N, denoted as (a_1, a_2, ..., a_N). You want to rearrange the elements of the permutation into increasing order, repeatedly making the following operation:\n",
    "\n",
    "Select a sub-portion of the permutation, (a_i, ..., a_j), and reverse its order.\n",
    "\n",
    "Your goal is to compute the minimum number of such operations required to return the permutation to increasing order."
   ]
  },
  {
   "cell_type": "code",
   "execution_count": 841,
   "id": "238a016d",
   "metadata": {},
   "outputs": [],
   "source": [
    "from collections import deque"
   ]
  },
  {
   "cell_type": "code",
   "execution_count": 854,
   "id": "c61c5e59",
   "metadata": {},
   "outputs": [],
   "source": [
    "A1 = [1, 2, 5, 4, 3]\n",
    "A2 = [3, 1, 2]\n",
    "A3 = [5, 3, 4, 1, 2]\n",
    "A4 = [1, 2, 3, 4]"
   ]
  },
  {
   "cell_type": "code",
   "execution_count": 855,
   "id": "5e4dbfb6",
   "metadata": {},
   "outputs": [],
   "source": [
    "def minOperations(arr):\n",
    "    \n",
    "    target_state = ''.join([str(num) for num in sorted(arr)])\n",
    "    current_state = ''.join([str(num) for num in arr])\n",
    "    \n",
    "    q = deque([(0, current_state)])\n",
    "    visited = set([current_state])\n",
    "    \n",
    "    while q:\n",
    "        op_num, curr_state = q.popleft()\n",
    "        \n",
    "        if curr_state == target_state:\n",
    "            return op_num\n",
    "        \n",
    "        for i in range(len(curr_state)):\n",
    "            for j in range(i, len(curr_state)):\n",
    "                permutation = curr_state[:i] + curr_state[i: j+1][::-1] + curr_state[j + 1:]\n",
    "                \n",
    "                if permutation not in visited:\n",
    "                    visited.add(permutation)\n",
    "                    q.append((op_num + 1, permutation))\n",
    "    \n",
    "    return -1"
   ]
  },
  {
   "cell_type": "code",
   "execution_count": 857,
   "id": "d1434858",
   "metadata": {},
   "outputs": [
    {
     "data": {
      "text/plain": [
       "2"
      ]
     },
     "execution_count": 857,
     "metadata": {},
     "output_type": "execute_result"
    }
   ],
   "source": [
    "minOperations(A2)"
   ]
  },
  {
   "cell_type": "markdown",
   "id": "3cb2d578",
   "metadata": {},
   "source": [
    "# Greedy Algorithms\n",
    "\n",
    "## Slow Sums\n",
    "\n",
    "Suppose we have a list of N numbers, and repeat the following operation until we're left with only a single number: Choose any two numbers and replace them with their sum. Moreover, we associate a penalty with each operation equal to the value of the new number, and call the penalty for the entire list as the sum of the penalties of each operation.\n",
    "\n",
    "For example, given the list [1, 2, 3, 4, 5], we could choose 2 and 3 for the first operation, which would transform the list into [1, 5, 4, 5] and incur a penalty of 5. The goal in this problem is to find the highest possible penalty for a given input."
   ]
  },
  {
   "cell_type": "code",
   "execution_count": 867,
   "id": "f02045f2",
   "metadata": {},
   "outputs": [],
   "source": [
    "A1 = [4, 2, 1, 3]\n",
    "A2 = [2, 3, 9, 8, 4]"
   ]
  },
  {
   "cell_type": "code",
   "execution_count": 868,
   "id": "1880f464",
   "metadata": {},
   "outputs": [],
   "source": [
    "def getTotalTime(arr):\n",
    "    arr.sort(reverse=True)\n",
    "    \n",
    "    penalty = 0\n",
    "    for i in range(len(arr)-1):\n",
    "        sum = arr.pop(0) + arr.pop(0)\n",
    "        penalty += sum\n",
    "        arr.insert(0, sum)\n",
    "    return penalty"
   ]
  },
  {
   "cell_type": "code",
   "execution_count": 870,
   "id": "305f5a5d",
   "metadata": {},
   "outputs": [
    {
     "name": "stdout",
     "output_type": "stream",
     "text": [
      "[17, 4, 3, 2]\n",
      "[21, 3, 2]\n",
      "[24, 2]\n",
      "[26]\n"
     ]
    },
    {
     "data": {
      "text/plain": [
       "88"
      ]
     },
     "execution_count": 870,
     "metadata": {},
     "output_type": "execute_result"
    }
   ],
   "source": [
    "getTotalTime(A2)"
   ]
  },
  {
   "cell_type": "markdown",
   "id": "4e4f70dc",
   "metadata": {},
   "source": [
    "## Element Swapping\n",
    "\n",
    "Given a sequence of n integers arr, determine the lexicographically smallest sequence which may be obtained from it after performing at most k element swaps, each involving a pair of consecutive elements in the sequence.\n",
    "\n",
    "Note: A list x is lexicographically smaller than a different equal-length list y if and only if, for the earliest index at which the two lists differ, x's element at that index is smaller than y's element at that index."
   ]
  },
  {
   "cell_type": "code",
   "execution_count": 1037,
   "id": "7a5131f9",
   "metadata": {},
   "outputs": [],
   "source": [
    "A1 = [5, 3, 1]\n",
    "k1 = 2\n",
    "\n",
    "A2 = [8, 9, 11, 2, 1]\n",
    "k2 = 3"
   ]
  },
  {
   "cell_type": "code",
   "execution_count": 1038,
   "id": "38176e9b",
   "metadata": {},
   "outputs": [],
   "source": [
    "def findMinArray(arr, k):\n",
    "    result = []\n",
    "    \n",
    "    while k > 0 and arr:\n",
    "        min_index = 0\n",
    "        for i in range(1, min(k + 1, len(arr))):\n",
    "            if arr[i] < arr[min_index]:\n",
    "                min_index = i\n",
    "\n",
    "        k -= min_index\n",
    "        result.append(arr[min_index])\n",
    "        arr = arr[0: min_index] + arr[min_index + 1:]\n",
    "\n",
    "    return result + arr"
   ]
  },
  {
   "cell_type": "code",
   "execution_count": 1039,
   "id": "8280733d",
   "metadata": {},
   "outputs": [
    {
     "data": {
      "text/plain": [
       "[2, 8, 9, 11, 1]"
      ]
     },
     "execution_count": 1039,
     "metadata": {},
     "output_type": "execute_result"
    }
   ],
   "source": [
    "findMinArray(A2, k2)"
   ]
  },
  {
   "cell_type": "markdown",
   "id": "4eeabd12",
   "metadata": {},
   "source": [
    "## Seating Arrangements\n",
    "\n",
    "There are n guests attending a dinner party, numbered from 1 to n. The ith guest has a height of arr[i-1] inches.\n",
    "\n",
    "The guests will sit down at a circular table which has n seats, numbered from 1 to n in clockwise order around the table. As the host, you will choose how to arrange the guests, one per seat. Note that there are n! possible permutations of seat assignments.\n",
    "\n",
    "Once the guests have sat down, the awkwardness between a pair of guests sitting in adjacent seats is defined as the absolute difference between their two heights. Note that, because the table is circular, seats 1 and n are considered to be adjacent to one another, and that there are therefore n pairs of adjacent guests.\n",
    "\n",
    "The overall awkwardness of the seating arrangement is then defined as the maximum awkwardness of any pair of adjacent guests. Determine the minimum possible overall awkwardness of any seating arrangement."
   ]
  },
  {
   "cell_type": "code",
   "execution_count": 1042,
   "id": "011cafa7",
   "metadata": {},
   "outputs": [],
   "source": [
    "A1 = [5, 10, 6, 8]\n",
    "A2 = [1, 2, 5, 3, 7]"
   ]
  },
  {
   "cell_type": "code",
   "execution_count": 1086,
   "id": "0e58e422",
   "metadata": {},
   "outputs": [],
   "source": [
    "def minOverallAwkwardness(arr):\n",
    "\n",
    "    awkwardness = 0\n",
    "    sorted_arr = sorted(arr)\n",
    "    \n",
    "    max_right = max_left = sorted_arr.pop(-1)\n",
    "    \n",
    "    right = left = 0\n",
    "    while sorted_arr:\n",
    "        right = sorted_arr.pop(-1)\n",
    "        awkwardness = max(awkwardness, abs(max_right - right))\n",
    "        max_right = right\n",
    "        if sorted_arr:\n",
    "            left = sorted_arr.pop(-1)\n",
    "            awkwardness = max(awkwardness, abs(max_left - left))\n",
    "            max_left = left\n",
    "    \n",
    "    return awkwardness"
   ]
  },
  {
   "cell_type": "code",
   "execution_count": 1087,
   "id": "8116d5f4",
   "metadata": {},
   "outputs": [
    {
     "data": {
      "text/plain": [
       "4"
      ]
     },
     "execution_count": 1087,
     "metadata": {},
     "output_type": "execute_result"
    }
   ],
   "source": [
    "minOverallAwkwardness(A1)"
   ]
  },
  {
   "cell_type": "code",
   "execution_count": null,
   "id": "0eecd0e6",
   "metadata": {},
   "outputs": [],
   "source": []
  }
 ],
 "metadata": {
  "kernelspec": {
   "display_name": "Python 3 (ipykernel)",
   "language": "python",
   "name": "python3"
  },
  "language_info": {
   "codemirror_mode": {
    "name": "ipython",
    "version": 3
   },
   "file_extension": ".py",
   "mimetype": "text/x-python",
   "name": "python",
   "nbconvert_exporter": "python",
   "pygments_lexer": "ipython3",
   "version": "3.8.16"
  }
 },
 "nbformat": 4,
 "nbformat_minor": 5
}
