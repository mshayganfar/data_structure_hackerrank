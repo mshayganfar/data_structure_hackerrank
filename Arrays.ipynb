{
 "cells": [
  {
   "cell_type": "markdown",
   "id": "3531783c",
   "metadata": {},
   "source": [
    "### Arrays - DS"
   ]
  },
  {
   "cell_type": "code",
   "execution_count": 1,
   "id": "631fe7d0",
   "metadata": {},
   "outputs": [],
   "source": [
    "import os"
   ]
  },
  {
   "cell_type": "code",
   "execution_count": 2,
   "id": "2109ba6b",
   "metadata": {},
   "outputs": [],
   "source": [
    "def reverseArray(a):\n",
    "    return a[::-1]"
   ]
  },
  {
   "cell_type": "code",
   "execution_count": 4,
   "id": "0f659374",
   "metadata": {},
   "outputs": [
    {
     "name": "stdout",
     "output_type": "stream",
     "text": [
      "4\n",
      "1 4 3 2\n"
     ]
    }
   ],
   "source": [
    "arr_count = int(input().strip())\n",
    "arr = list(map(int, input().rstrip().split()))\n",
    "res = reverseArray(arr)"
   ]
  },
  {
   "cell_type": "code",
   "execution_count": 5,
   "id": "daf9505c",
   "metadata": {},
   "outputs": [
    {
     "name": "stdout",
     "output_type": "stream",
     "text": [
      "[2, 3, 4, 1]\n"
     ]
    }
   ],
   "source": [
    "print(res)"
   ]
  },
  {
   "cell_type": "markdown",
   "id": "ac1b1507",
   "metadata": {},
   "source": [
    "### 2D Array - DS"
   ]
  },
  {
   "cell_type": "code",
   "execution_count": 19,
   "id": "e5e8cbd7",
   "metadata": {},
   "outputs": [],
   "source": [
    "def hourglassSum(arr):\n",
    "    hourglass_sum = []\n",
    "    for i in range(1, 5):\n",
    "        for j in range(1, 5):\n",
    "            sum = arr[i-1][j-1]+arr[i-1][j]+arr[i-1][j+1]+arr[i][j]+arr[i+1][j-1]+arr[i+1][j]+arr[i+1][j+1]\n",
    "            hourglass_sum.append(sum)\n",
    "    return max(hourglass_sum)"
   ]
  },
  {
   "cell_type": "code",
   "execution_count": 20,
   "id": "ec768f4f",
   "metadata": {},
   "outputs": [
    {
     "name": "stdout",
     "output_type": "stream",
     "text": [
      "1 1 1 0 0 0\n",
      "0 1 0 0 0 0\n",
      "1 1 1 0 0 0\n",
      "0 0 2 4 4 0\n",
      "0 0 0 2 0 0\n",
      "0 0 1 2 4 0\n"
     ]
    }
   ],
   "source": [
    "arr = []\n",
    "\n",
    "for _ in range(6):\n",
    "    arr.append(list(map(int, input().rstrip().split())))\n",
    "\n",
    "result = hourglassSum(arr)"
   ]
  },
  {
   "cell_type": "code",
   "execution_count": 21,
   "id": "d147bf81",
   "metadata": {},
   "outputs": [
    {
     "name": "stdout",
     "output_type": "stream",
     "text": [
      "19\n"
     ]
    }
   ],
   "source": [
    "print(result)"
   ]
  },
  {
   "cell_type": "markdown",
   "id": "360787f6",
   "metadata": {},
   "source": [
    "### Dynamic Array"
   ]
  },
  {
   "cell_type": "code",
   "execution_count": 51,
   "id": "effbb5fb",
   "metadata": {},
   "outputs": [],
   "source": [
    "def dynamicArray(n, queries):\n",
    "    last_answer = 0\n",
    "    arr = [[] for _ in range(n)]\n",
    "    answers = []\n",
    "    \n",
    "    for q in queries:\n",
    "        op, x, y = q\n",
    "        idx = ((x^last_answer)%n)\n",
    "        if op == 1:\n",
    "            arr[idx].append(y)\n",
    "        elif op == 2:\n",
    "            last_answer = arr[idx][y%len(arr[idx])]\n",
    "            answers.append(last_answer)\n",
    "    return answers"
   ]
  },
  {
   "cell_type": "code",
   "execution_count": 23,
   "id": "997932be",
   "metadata": {},
   "outputs": [
    {
     "name": "stdout",
     "output_type": "stream",
     "text": [
      "2 5\n",
      "1 0 5\n",
      "1 1 7\n",
      "1 0 3\n",
      "2 1 0\n",
      "2 1 1\n"
     ]
    }
   ],
   "source": [
    "first_multiple_input = input().rstrip().split()\n",
    "\n",
    "n = int(first_multiple_input[0])\n",
    "q = int(first_multiple_input[1])\n",
    "\n",
    "queries = []\n",
    "\n",
    "for _ in range(q):\n",
    "    queries.append(list(map(int, input().rstrip().split())))"
   ]
  },
  {
   "cell_type": "code",
   "execution_count": 52,
   "id": "190f2f85",
   "metadata": {},
   "outputs": [
    {
     "name": "stdout",
     "output_type": "stream",
     "text": [
      "[7, 3]\n"
     ]
    }
   ],
   "source": [
    "result = dynamicArray(n, queries)\n",
    "print(result)"
   ]
  },
  {
   "cell_type": "markdown",
   "id": "c8df8d6c",
   "metadata": {},
   "source": [
    "### Left Rotation"
   ]
  },
  {
   "cell_type": "code",
   "execution_count": 67,
   "id": "f3ff98df",
   "metadata": {},
   "outputs": [],
   "source": [
    "import numpy"
   ]
  },
  {
   "cell_type": "code",
   "execution_count": 90,
   "id": "72bccbd7",
   "metadata": {},
   "outputs": [],
   "source": [
    "def rotateLeft(d, arr):\n",
    "    return (arr[d:len(arr)] + arr[0:d])"
   ]
  },
  {
   "cell_type": "code",
   "execution_count": 91,
   "id": "fa916281",
   "metadata": {},
   "outputs": [
    {
     "name": "stdout",
     "output_type": "stream",
     "text": [
      "5 4\n",
      "1 2 3 4 5\n"
     ]
    }
   ],
   "source": [
    "first_multiple_input = input().rstrip().split()\n",
    "\n",
    "n = int(first_multiple_input[0])\n",
    "d = int(first_multiple_input[1])\n",
    "\n",
    "arr = list(map(int, input().rstrip().split()))"
   ]
  },
  {
   "cell_type": "code",
   "execution_count": 92,
   "id": "cca69fc7",
   "metadata": {},
   "outputs": [
    {
     "data": {
      "text/plain": [
       "[5, 1, 2, 3, 4]"
      ]
     },
     "execution_count": 92,
     "metadata": {},
     "output_type": "execute_result"
    }
   ],
   "source": [
    "result = rotateLeft(d, arr)\n",
    "result"
   ]
  },
  {
   "cell_type": "markdown",
   "id": "d97da1f5",
   "metadata": {},
   "source": [
    "### Sparse Arrays"
   ]
  },
  {
   "cell_type": "code",
   "execution_count": 97,
   "id": "8c36e0d7",
   "metadata": {},
   "outputs": [],
   "source": [
    "def matchingStrings(stringList, queries):\n",
    "    count = 0\n",
    "    counts = []\n",
    "    for q in queries:\n",
    "        for s in stringList:\n",
    "            if s == q:\n",
    "                count += 1\n",
    "        counts.append(count)\n",
    "        count = 0\n",
    "    return counts"
   ]
  },
  {
   "cell_type": "code",
   "execution_count": null,
   "id": "5038dab8",
   "metadata": {},
   "outputs": [],
   "source": [
    "stringList_count = int(input().strip())\n",
    "\n",
    "stringList = []\n",
    "\n",
    "for _ in range(stringList_count):\n",
    "    stringList_item = input()\n",
    "    stringList.append(stringList_item)\n",
    "\n",
    "queries_count = int(input().strip())\n",
    "\n",
    "queries = []\n",
    "\n",
    "for _ in range(queries_count):\n",
    "    queries_item = input()\n",
    "    queries.append(queries_item)"
   ]
  },
  {
   "cell_type": "code",
   "execution_count": 102,
   "id": "4867c181",
   "metadata": {},
   "outputs": [],
   "source": [
    "stringList = ['def', 'de', 'fgh']\n",
    "queries = ['de', 'lmn', 'fgh']"
   ]
  },
  {
   "cell_type": "code",
   "execution_count": 103,
   "id": "acb651c7",
   "metadata": {},
   "outputs": [
    {
     "data": {
      "text/plain": [
       "[1, 0, 1]"
      ]
     },
     "execution_count": 103,
     "metadata": {},
     "output_type": "execute_result"
    }
   ],
   "source": [
    "res = matchingStrings(stringList, queries)\n",
    "res"
   ]
  },
  {
   "cell_type": "markdown",
   "id": "3a9fdb1a",
   "metadata": {},
   "source": [
    "### Array Manipulation"
   ]
  },
  {
   "cell_type": "code",
   "execution_count": 206,
   "id": "567a5a30",
   "metadata": {},
   "outputs": [],
   "source": [
    "def arrayManipulation(n, queries):\n",
    "    arr = [0] * n\n",
    "    for b, e, v in queries:\n",
    "        for i in range(b-1, e):\n",
    "            arr[i] += v\n",
    "    return max(arr)"
   ]
  },
  {
   "cell_type": "code",
   "execution_count": null,
   "id": "775f80ea",
   "metadata": {},
   "outputs": [],
   "source": [
    "# Another approach\n",
    "\n",
    "import itertools as it\n",
    "\n",
    "def arrayManipulation(n, queries):\n",
    "    q = it.chain.from_iterable([(a, k), (b, -k)] for a, b, k in queries)\n",
    "    return max(it.accumulate(c for _, c in sorted(q, key=lambda x: (x[0], -x[1]))))"
   ]
  },
  {
   "cell_type": "code",
   "execution_count": null,
   "id": "8c1a97dd",
   "metadata": {},
   "outputs": [],
   "source": [
    "first_multiple_input = input().rstrip().split()\n",
    "\n",
    "n = int(first_multiple_input[0])\n",
    "m = int(first_multiple_input[1])\n",
    "\n",
    "queries = []\n",
    "\n",
    "for _ in range(m):\n",
    "    queries.append(list(map(int, input().rstrip().split())))"
   ]
  },
  {
   "cell_type": "code",
   "execution_count": 207,
   "id": "f5447f07",
   "metadata": {},
   "outputs": [],
   "source": [
    "n = 10\n",
    "queries = [[1, 5, 3], [4, 8, 7], [6, 9, 1]]"
   ]
  },
  {
   "cell_type": "code",
   "execution_count": 208,
   "id": "cc21e45e",
   "metadata": {},
   "outputs": [
    {
     "data": {
      "text/plain": [
       "10"
      ]
     },
     "execution_count": 208,
     "metadata": {},
     "output_type": "execute_result"
    }
   ],
   "source": [
    "result = arrayManipulation(n, queries)\n",
    "result"
   ]
  },
  {
   "cell_type": "code",
   "execution_count": null,
   "id": "1b48aa03",
   "metadata": {},
   "outputs": [],
   "source": []
  }
 ],
 "metadata": {
  "kernelspec": {
   "display_name": "Python 3 (ipykernel)",
   "language": "python",
   "name": "python3"
  },
  "language_info": {
   "codemirror_mode": {
    "name": "ipython",
    "version": 3
   },
   "file_extension": ".py",
   "mimetype": "text/x-python",
   "name": "python",
   "nbconvert_exporter": "python",
   "pygments_lexer": "ipython3",
   "version": "3.8.16"
  }
 },
 "nbformat": 4,
 "nbformat_minor": 5
}
