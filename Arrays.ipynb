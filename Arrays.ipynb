{
 "cells": [
  {
   "cell_type": "markdown",
   "id": "a04735b3",
   "metadata": {},
   "source": [
    "### Arrays - DS"
   ]
  },
  {
   "cell_type": "code",
   "execution_count": 1,
   "id": "d7d9ad29",
   "metadata": {},
   "outputs": [],
   "source": [
    "import os"
   ]
  },
  {
   "cell_type": "code",
   "execution_count": 2,
   "id": "1c4eb6b5",
   "metadata": {},
   "outputs": [],
   "source": [
    "def reverseArray(a):\n",
    "    return a[::-1]"
   ]
  },
  {
   "cell_type": "code",
   "execution_count": 4,
   "id": "8cfd7f6d",
   "metadata": {},
   "outputs": [
    {
     "name": "stdout",
     "output_type": "stream",
     "text": [
      "4\n",
      "1 4 3 2\n"
     ]
    }
   ],
   "source": [
    "arr_count = int(input().strip())\n",
    "arr = list(map(int, input().rstrip().split()))\n",
    "res = reverseArray(arr)"
   ]
  },
  {
   "cell_type": "code",
   "execution_count": 5,
   "id": "25a4d0dd",
   "metadata": {},
   "outputs": [
    {
     "name": "stdout",
     "output_type": "stream",
     "text": [
      "[2, 3, 4, 1]\n"
     ]
    }
   ],
   "source": [
    "print(res)"
   ]
  },
  {
   "cell_type": "markdown",
   "id": "c66a22a0",
   "metadata": {},
   "source": [
    "### 2D Array - DS"
   ]
  },
  {
   "cell_type": "code",
   "execution_count": 19,
   "id": "621710ec",
   "metadata": {},
   "outputs": [],
   "source": [
    "def hourglassSum(arr):\n",
    "    hourglass_sum = []\n",
    "    for i in range(1, 5):\n",
    "        for j in range(1, 5):\n",
    "            sum = arr[i-1][j-1]+arr[i-1][j]+arr[i-1][j+1]+arr[i][j]+arr[i+1][j-1]+arr[i+1][j]+arr[i+1][j+1]\n",
    "            hourglass_sum.append(sum)\n",
    "    return max(hourglass_sum)"
   ]
  },
  {
   "cell_type": "code",
   "execution_count": 20,
   "id": "7cb2b2ee",
   "metadata": {},
   "outputs": [
    {
     "name": "stdout",
     "output_type": "stream",
     "text": [
      "1 1 1 0 0 0\n",
      "0 1 0 0 0 0\n",
      "1 1 1 0 0 0\n",
      "0 0 2 4 4 0\n",
      "0 0 0 2 0 0\n",
      "0 0 1 2 4 0\n"
     ]
    }
   ],
   "source": [
    "arr = []\n",
    "\n",
    "for _ in range(6):\n",
    "    arr.append(list(map(int, input().rstrip().split())))\n",
    "\n",
    "result = hourglassSum(arr)"
   ]
  },
  {
   "cell_type": "code",
   "execution_count": 21,
   "id": "ca6e5f76",
   "metadata": {},
   "outputs": [
    {
     "name": "stdout",
     "output_type": "stream",
     "text": [
      "19\n"
     ]
    }
   ],
   "source": [
    "print(result)"
   ]
  },
  {
   "cell_type": "markdown",
   "id": "2ee70bcb",
   "metadata": {},
   "source": [
    "### Dynamic Array"
   ]
  },
  {
   "cell_type": "code",
   "execution_count": 51,
   "id": "c6f9cc43",
   "metadata": {},
   "outputs": [],
   "source": [
    "def dynamicArray(n, queries):\n",
    "    last_answer = 0\n",
    "    arr = [[] for _ in range(n)]\n",
    "    answers = []\n",
    "    \n",
    "    for q in queries:\n",
    "        op, x, y = q\n",
    "        idx = ((x^last_answer)%n)\n",
    "        if op == 1:\n",
    "            arr[idx].append(y)\n",
    "        elif op == 2:\n",
    "            last_answer = arr[idx][y%len(arr[idx])]\n",
    "            answers.append(last_answer)\n",
    "    return answers"
   ]
  },
  {
   "cell_type": "code",
   "execution_count": 23,
   "id": "def72c01",
   "metadata": {},
   "outputs": [
    {
     "name": "stdout",
     "output_type": "stream",
     "text": [
      "2 5\n",
      "1 0 5\n",
      "1 1 7\n",
      "1 0 3\n",
      "2 1 0\n",
      "2 1 1\n"
     ]
    }
   ],
   "source": [
    "first_multiple_input = input().rstrip().split()\n",
    "\n",
    "n = int(first_multiple_input[0])\n",
    "q = int(first_multiple_input[1])\n",
    "\n",
    "queries = []\n",
    "\n",
    "for _ in range(q):\n",
    "    queries.append(list(map(int, input().rstrip().split())))"
   ]
  },
  {
   "cell_type": "code",
   "execution_count": 52,
   "id": "e1654fd4",
   "metadata": {},
   "outputs": [
    {
     "name": "stdout",
     "output_type": "stream",
     "text": [
      "[7, 3]\n"
     ]
    }
   ],
   "source": [
    "result = dynamicArray(n, queries)\n",
    "print(result)"
   ]
  },
  {
   "cell_type": "code",
   "execution_count": null,
   "id": "b8a2144a",
   "metadata": {},
   "outputs": [],
   "source": []
  }
 ],
 "metadata": {
  "kernelspec": {
   "display_name": "Python 3 (ipykernel)",
   "language": "python",
   "name": "python3"
  },
  "language_info": {
   "codemirror_mode": {
    "name": "ipython",
    "version": 3
   },
   "file_extension": ".py",
   "mimetype": "text/x-python",
   "name": "python",
   "nbconvert_exporter": "python",
   "pygments_lexer": "ipython3",
   "version": "3.8.16"
  }
 },
 "nbformat": 4,
 "nbformat_minor": 5
}
