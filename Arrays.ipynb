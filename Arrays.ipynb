{
 "cells": [
  {
   "cell_type": "markdown",
   "id": "03807645",
   "metadata": {},
   "source": [
    "### Arrays - DS"
   ]
  },
  {
   "cell_type": "code",
   "execution_count": 1,
   "id": "c4b85af8",
   "metadata": {},
   "outputs": [],
   "source": [
    "import os"
   ]
  },
  {
   "cell_type": "code",
   "execution_count": 2,
   "id": "250e9f26",
   "metadata": {},
   "outputs": [],
   "source": [
    "def reverseArray(a):\n",
    "    return a[::-1]"
   ]
  },
  {
   "cell_type": "code",
   "execution_count": 4,
   "id": "91681197",
   "metadata": {},
   "outputs": [
    {
     "name": "stdout",
     "output_type": "stream",
     "text": [
      "4\n",
      "1 4 3 2\n"
     ]
    }
   ],
   "source": [
    "arr_count = int(input().strip())\n",
    "arr = list(map(int, input().rstrip().split()))\n",
    "res = reverseArray(arr)"
   ]
  },
  {
   "cell_type": "code",
   "execution_count": 5,
   "id": "568e5a8e",
   "metadata": {},
   "outputs": [
    {
     "name": "stdout",
     "output_type": "stream",
     "text": [
      "[2, 3, 4, 1]\n"
     ]
    }
   ],
   "source": [
    "print(res)"
   ]
  },
  {
   "cell_type": "markdown",
   "id": "54ae58d7",
   "metadata": {},
   "source": [
    "### 2D Array - DS"
   ]
  },
  {
   "cell_type": "code",
   "execution_count": 19,
   "id": "bb95232c",
   "metadata": {},
   "outputs": [],
   "source": [
    "def hourglassSum(arr):\n",
    "    hourglass_sum = []\n",
    "    for i in range(1, 5):\n",
    "        for j in range(1, 5):\n",
    "            sum = arr[i-1][j-1]+arr[i-1][j]+arr[i-1][j+1]+arr[i][j]+arr[i+1][j-1]+arr[i+1][j]+arr[i+1][j+1]\n",
    "            hourglass_sum.append(sum)\n",
    "    return max(hourglass_sum)"
   ]
  },
  {
   "cell_type": "code",
   "execution_count": 20,
   "id": "5945bf56",
   "metadata": {},
   "outputs": [
    {
     "name": "stdout",
     "output_type": "stream",
     "text": [
      "1 1 1 0 0 0\n",
      "0 1 0 0 0 0\n",
      "1 1 1 0 0 0\n",
      "0 0 2 4 4 0\n",
      "0 0 0 2 0 0\n",
      "0 0 1 2 4 0\n"
     ]
    }
   ],
   "source": [
    "arr = []\n",
    "\n",
    "for _ in range(6):\n",
    "    arr.append(list(map(int, input().rstrip().split())))\n",
    "\n",
    "result = hourglassSum(arr)"
   ]
  },
  {
   "cell_type": "code",
   "execution_count": 21,
   "id": "decd8444",
   "metadata": {},
   "outputs": [
    {
     "name": "stdout",
     "output_type": "stream",
     "text": [
      "19\n"
     ]
    }
   ],
   "source": [
    "print(result)"
   ]
  },
  {
   "cell_type": "markdown",
   "id": "44ba010a",
   "metadata": {},
   "source": [
    "### Dynamic Array"
   ]
  },
  {
   "cell_type": "code",
   "execution_count": 51,
   "id": "1682d011",
   "metadata": {},
   "outputs": [],
   "source": [
    "def dynamicArray(n, queries):\n",
    "    last_answer = 0\n",
    "    arr = [[] for _ in range(n)]\n",
    "    answers = []\n",
    "    \n",
    "    for q in queries:\n",
    "        op, x, y = q\n",
    "        idx = ((x^last_answer)%n)\n",
    "        if op == 1:\n",
    "            arr[idx].append(y)\n",
    "        elif op == 2:\n",
    "            last_answer = arr[idx][y%len(arr[idx])]\n",
    "            answers.append(last_answer)\n",
    "    return answers"
   ]
  },
  {
   "cell_type": "code",
   "execution_count": 23,
   "id": "fe943ad3",
   "metadata": {},
   "outputs": [
    {
     "name": "stdout",
     "output_type": "stream",
     "text": [
      "2 5\n",
      "1 0 5\n",
      "1 1 7\n",
      "1 0 3\n",
      "2 1 0\n",
      "2 1 1\n"
     ]
    }
   ],
   "source": [
    "first_multiple_input = input().rstrip().split()\n",
    "\n",
    "n = int(first_multiple_input[0])\n",
    "q = int(first_multiple_input[1])\n",
    "\n",
    "queries = []\n",
    "\n",
    "for _ in range(q):\n",
    "    queries.append(list(map(int, input().rstrip().split())))"
   ]
  },
  {
   "cell_type": "code",
   "execution_count": 52,
   "id": "b82929f3",
   "metadata": {},
   "outputs": [
    {
     "name": "stdout",
     "output_type": "stream",
     "text": [
      "[7, 3]\n"
     ]
    }
   ],
   "source": [
    "result = dynamicArray(n, queries)\n",
    "print(result)"
   ]
  },
  {
   "cell_type": "markdown",
   "id": "ceca9329",
   "metadata": {},
   "source": [
    "### Left Rotation"
   ]
  },
  {
   "cell_type": "code",
   "execution_count": 67,
   "id": "c84db434",
   "metadata": {},
   "outputs": [],
   "source": [
    "import numpy"
   ]
  },
  {
   "cell_type": "code",
   "execution_count": 90,
   "id": "dfc5caa0",
   "metadata": {},
   "outputs": [],
   "source": [
    "def rotateLeft(d, arr):\n",
    "    return (arr[d:len(arr)] + arr[0:d])"
   ]
  },
  {
   "cell_type": "code",
   "execution_count": 91,
   "id": "87ecbd4d",
   "metadata": {},
   "outputs": [
    {
     "name": "stdout",
     "output_type": "stream",
     "text": [
      "5 4\n",
      "1 2 3 4 5\n"
     ]
    }
   ],
   "source": [
    "first_multiple_input = input().rstrip().split()\n",
    "\n",
    "n = int(first_multiple_input[0])\n",
    "d = int(first_multiple_input[1])\n",
    "\n",
    "arr = list(map(int, input().rstrip().split()))"
   ]
  },
  {
   "cell_type": "code",
   "execution_count": 92,
   "id": "9b580d5b",
   "metadata": {},
   "outputs": [
    {
     "data": {
      "text/plain": [
       "[5, 1, 2, 3, 4]"
      ]
     },
     "execution_count": 92,
     "metadata": {},
     "output_type": "execute_result"
    }
   ],
   "source": [
    "result = rotateLeft(d, arr)\n",
    "result"
   ]
  },
  {
   "cell_type": "markdown",
   "id": "c760338b",
   "metadata": {},
   "source": [
    "### Sparse Arrays"
   ]
  },
  {
   "cell_type": "code",
   "execution_count": 97,
   "id": "3e590b71",
   "metadata": {},
   "outputs": [],
   "source": [
    "def matchingStrings(stringList, queries):\n",
    "    count = 0\n",
    "    counts = []\n",
    "    for q in queries:\n",
    "        for s in stringList:\n",
    "            if s == q:\n",
    "                count += 1\n",
    "        counts.append(count)\n",
    "        count = 0\n",
    "    return counts"
   ]
  },
  {
   "cell_type": "code",
   "execution_count": null,
   "id": "9e75baf6",
   "metadata": {},
   "outputs": [],
   "source": [
    "stringList_count = int(input().strip())\n",
    "\n",
    "stringList = []\n",
    "\n",
    "for _ in range(stringList_count):\n",
    "    stringList_item = input()\n",
    "    stringList.append(stringList_item)\n",
    "\n",
    "queries_count = int(input().strip())\n",
    "\n",
    "queries = []\n",
    "\n",
    "for _ in range(queries_count):\n",
    "    queries_item = input()\n",
    "    queries.append(queries_item)"
   ]
  },
  {
   "cell_type": "code",
   "execution_count": 102,
   "id": "2846c892",
   "metadata": {},
   "outputs": [],
   "source": [
    "stringList = ['def', 'de', 'fgh']\n",
    "queries = ['de', 'lmn', 'fgh']"
   ]
  },
  {
   "cell_type": "code",
   "execution_count": 103,
   "id": "c7907c55",
   "metadata": {},
   "outputs": [
    {
     "data": {
      "text/plain": [
       "[1, 0, 1]"
      ]
     },
     "execution_count": 103,
     "metadata": {},
     "output_type": "execute_result"
    }
   ],
   "source": [
    "res = matchingStrings(stringList, queries)\n",
    "res"
   ]
  },
  {
   "cell_type": "markdown",
   "id": "f78e7d91",
   "metadata": {},
   "source": [
    "### Array Manipulation"
   ]
  },
  {
   "cell_type": "code",
   "execution_count": 206,
   "id": "1da9779d",
   "metadata": {},
   "outputs": [],
   "source": [
    "def arrayManipulation(n, queries):\n",
    "    arr = [0] * n\n",
    "    for b, e, v in queries:\n",
    "        for i in range(b-1, e):\n",
    "            arr[i] += v\n",
    "    return max(arr)"
   ]
  },
  {
   "cell_type": "code",
   "execution_count": 209,
   "id": "03e2d318",
   "metadata": {},
   "outputs": [],
   "source": [
    "# Another approach\n",
    "\n",
    "import itertools as it\n",
    "\n",
    "def arrayManipulation(n, queries):\n",
    "    q = it.chain.from_iterable([(a, k), (b, -k)] for a, b, k in queries)\n",
    "    return max(it.accumulate(c for _, c in sorted(q, key=lambda x: (x[0], -x[1]))))"
   ]
  },
  {
   "cell_type": "code",
   "execution_count": null,
   "id": "0af4702c",
   "metadata": {},
   "outputs": [],
   "source": [
    "first_multiple_input = input().rstrip().split()\n",
    "\n",
    "n = int(first_multiple_input[0])\n",
    "m = int(first_multiple_input[1])\n",
    "\n",
    "queries = []\n",
    "\n",
    "for _ in range(m):\n",
    "    queries.append(list(map(int, input().rstrip().split())))"
   ]
  },
  {
   "cell_type": "code",
   "execution_count": 210,
   "id": "e6e07dee",
   "metadata": {},
   "outputs": [],
   "source": [
    "n = 10\n",
    "queries = [[1, 5, 3], [4, 8, 7], [6, 9, 1]]"
   ]
  },
  {
   "cell_type": "code",
   "execution_count": 211,
   "id": "a3405cc0",
   "metadata": {},
   "outputs": [
    {
     "data": {
      "text/plain": [
       "10"
      ]
     },
     "execution_count": 211,
     "metadata": {},
     "output_type": "execute_result"
    }
   ],
   "source": [
    "result = arrayManipulation(n, queries)\n",
    "result"
   ]
  },
  {
   "cell_type": "code",
   "execution_count": null,
   "id": "944a23e9",
   "metadata": {},
   "outputs": [],
   "source": []
  }
 ],
 "metadata": {
  "kernelspec": {
   "display_name": "Python 3 (ipykernel)",
   "language": "python",
   "name": "python3"
  },
  "language_info": {
   "codemirror_mode": {
    "name": "ipython",
    "version": 3
   },
   "file_extension": ".py",
   "mimetype": "text/x-python",
   "name": "python",
   "nbconvert_exporter": "python",
   "pygments_lexer": "ipython3",
   "version": "3.8.16"
  }
 },
 "nbformat": 4,
 "nbformat_minor": 5
}
