{
 "cells": [
  {
   "cell_type": "markdown",
   "id": "562a6d1e",
   "metadata": {},
   "source": [
    "### Maximum Element"
   ]
  },
  {
   "cell_type": "code",
   "execution_count": 95,
   "id": "580c3ca1",
   "metadata": {},
   "outputs": [],
   "source": [
    "def getMax(operations):\n",
    "    stack = [(None, -float('inf'))]\n",
    "    max_values = []\n",
    "    for op in operations:\n",
    "        op = list(map(int, op.split()))\n",
    "        if op[0] == 1:\n",
    "            stack.append((op[1], max(stack[-1][1], op[1])))\n",
    "        elif op[0] == 2:\n",
    "            stack.pop()\n",
    "        elif op[0] == 3:\n",
    "            max_values.append(stack[-1][1])\n",
    "    return max_values"
   ]
  },
  {
   "cell_type": "code",
   "execution_count": 36,
   "id": "4220678d",
   "metadata": {},
   "outputs": [
    {
     "name": "stdout",
     "output_type": "stream",
     "text": [
      "10\n",
      "1 97\n",
      "2\n",
      "1 20\n",
      "2\n",
      "1 26\n",
      "1 20\n",
      "2\n",
      "3\n",
      "1 91\n",
      "3\n"
     ]
    }
   ],
   "source": [
    "n = int(input().strip())\n",
    "\n",
    "ops = []\n",
    "\n",
    "for _ in range(n):\n",
    "    ops_item = input()\n",
    "    ops.append(ops_item)"
   ]
  },
  {
   "cell_type": "code",
   "execution_count": 76,
   "id": "7abb4901",
   "metadata": {},
   "outputs": [
    {
     "data": {
      "text/plain": [
       "['1 97', '2', '1 20', '2', '1 26', '1 20', '2', '3', '1 91', '3']"
      ]
     },
     "execution_count": 76,
     "metadata": {},
     "output_type": "execute_result"
    }
   ],
   "source": [
    "ops"
   ]
  },
  {
   "cell_type": "code",
   "execution_count": 96,
   "id": "9a1cd506",
   "metadata": {},
   "outputs": [
    {
     "data": {
      "text/plain": [
       "[26, 91]"
      ]
     },
     "execution_count": 96,
     "metadata": {},
     "output_type": "execute_result"
    }
   ],
   "source": [
    "res = getMax(ops)\n",
    "res"
   ]
  },
  {
   "cell_type": "code",
   "execution_count": null,
   "id": "58c8e7e8",
   "metadata": {},
   "outputs": [],
   "source": []
  }
 ],
 "metadata": {
  "kernelspec": {
   "display_name": "Python 3 (ipykernel)",
   "language": "python",
   "name": "python3"
  },
  "language_info": {
   "codemirror_mode": {
    "name": "ipython",
    "version": 3
   },
   "file_extension": ".py",
   "mimetype": "text/x-python",
   "name": "python",
   "nbconvert_exporter": "python",
   "pygments_lexer": "ipython3",
   "version": "3.8.16"
  }
 },
 "nbformat": 4,
 "nbformat_minor": 5
}
